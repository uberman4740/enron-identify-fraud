{
 "cells": [
  {
   "cell_type": "markdown",
   "metadata": {},
   "source": [
    "### Note:\n",
    "\n",
    "This is **the second version** of the final project. Below is the list of modifications I made from the first version.\n",
    "\n",
    "- Created a new feature \"ratio_eso_tsv\" = expected_stock_options / total_stock_value\n",
    "- Used **Recursive Feature Elmination (RFE)** to quickly elminate low ranking features.\n",
    "- Used **feature importances** in a Decision Tree to filter the low ranking features further.\n",
    "- Explained the scaling method I employed for the project more explicitly.\n",
    "- Modified **GridSearchCV** scroing parameter to **f1**. By default, it tries to maximize accuracy and we can get a high accuracy just by assuming everyone is non-POI.\n",
    "- **GridSearchCV** was run multiple times over cross validation iterations. To fix this, I took the best parameters from **GridSearchCV** and fixed those parameters in the model.\n",
    "- **Linear Regression** and **Lasso Regression** are used when we have a continuous output. However, in this project, the output is discrete values: POI or non-POI. **Logistic Regression** is the algorithm that is appropriate to use.\n",
    "- Answers to the project questionnaire in the **final thoughts** section.\n"
   ]
  },
  {
   "cell_type": "markdown",
   "metadata": {},
   "source": [
    "# Identifying POI from Enron Dataset\n",
    "### Final Project - Machine Learning Course\n",
    "### Udacity Data Analyst Nanodegree"
   ]
  },
  {
   "cell_type": "markdown",
   "metadata": {},
   "source": [
    "This is the final project for the machine learning course. Enron financial data and email data will be investigated to find the list of person of interest (POI) who were involved in the fraud activities.\n",
    "\n",
    "Below is the order of the investigation process I will employ for this final project.\n",
    "- Univariate analysis\n",
    "    - Process the dataset (taking care of missing values and outliers)\n",
    "    - Select good features that don't have too many zeros or missing values\n",
    "    - Calculate accuracy, precision and recall for each feature I selected using classifiers with default parameters.\n",
    "- Bivariate analysis \n",
    "    - Use features that show the high scores from the univariate analysis\n",
    "    - Calculate accuracy, precision and recall from a pair of features using more classifiers and various parameters.\n",
    "- Multivariate analysis\n",
    "    - Calculate accuracy, precision and recall from features with the best scores from univariate and bivariate analysis.\n",
    "\n",
    "In the end, I will choose the combination of features and classifier that shows the best scores."
   ]
  },
  {
   "cell_type": "markdown",
   "metadata": {},
   "source": [
    "First, necessary Libraries will be loaded."
   ]
  },
  {
   "cell_type": "code",
   "execution_count": 97,
   "metadata": {
    "collapsed": false
   },
   "outputs": [],
   "source": [
    "#!/usr/bin/python\n",
    "\n",
    "import sys\n",
    "import pickle\n",
    "import pprint\n",
    "import matplotlib.pyplot as plt\n",
    "import numpy as np\n",
    "\n",
    "### Setting the path\n",
    "sys.path.append(\"../tools/\")\n",
    "\n",
    "### These are the scripts given in the class\n",
    "from feature_format import featureFormat, targetFeatureSplit\n",
    "from tester import dump_classifier_and_data"
   ]
  },
  {
   "cell_type": "markdown",
   "metadata": {},
   "source": [
    "Load the dictionary containing the dataset."
   ]
  },
  {
   "cell_type": "code",
   "execution_count": 98,
   "metadata": {
    "collapsed": true
   },
   "outputs": [],
   "source": [
    "### Load the dictionary containing the dataset\n",
    "with open(\"final_project_dataset.pkl\", \"r\") as data_file:\n",
    "    data_dict = pickle.load(data_file)"
   ]
  },
  {
   "cell_type": "code",
   "execution_count": 99,
   "metadata": {
    "collapsed": false
   },
   "outputs": [
    {
     "data": {
      "text/plain": [
       "146"
      ]
     },
     "execution_count": 99,
     "metadata": {},
     "output_type": "execute_result"
    }
   ],
   "source": [
    "len(data_dict)"
   ]
  },
  {
   "cell_type": "markdown",
   "metadata": {},
   "source": [
    "There are total 146 number of data in data_dict. I am going to print out the first two of the data from data_dict to see how the dictionary looks like."
   ]
  },
  {
   "cell_type": "code",
   "execution_count": 100,
   "metadata": {
    "collapsed": false
   },
   "outputs": [
    {
     "name": "stdout",
     "output_type": "stream",
     "text": [
      "METTS MARK\n",
      "{'bonus': 600000,\n",
      " 'deferral_payments': 'NaN',\n",
      " 'deferred_income': 'NaN',\n",
      " 'director_fees': 'NaN',\n",
      " 'email_address': 'mark.metts@enron.com',\n",
      " 'exercised_stock_options': 'NaN',\n",
      " 'expenses': 94299,\n",
      " 'from_messages': 29,\n",
      " 'from_poi_to_this_person': 38,\n",
      " 'from_this_person_to_poi': 1,\n",
      " 'loan_advances': 'NaN',\n",
      " 'long_term_incentive': 'NaN',\n",
      " 'other': 1740,\n",
      " 'poi': False,\n",
      " 'restricted_stock': 585062,\n",
      " 'restricted_stock_deferred': 'NaN',\n",
      " 'salary': 365788,\n",
      " 'shared_receipt_with_poi': 702,\n",
      " 'to_messages': 807,\n",
      " 'total_payments': 1061827,\n",
      " 'total_stock_value': 585062}\n",
      "BAXTER JOHN C\n",
      "{'bonus': 1200000,\n",
      " 'deferral_payments': 1295738,\n",
      " 'deferred_income': -1386055,\n",
      " 'director_fees': 'NaN',\n",
      " 'email_address': 'NaN',\n",
      " 'exercised_stock_options': 6680544,\n",
      " 'expenses': 11200,\n",
      " 'from_messages': 'NaN',\n",
      " 'from_poi_to_this_person': 'NaN',\n",
      " 'from_this_person_to_poi': 'NaN',\n",
      " 'loan_advances': 'NaN',\n",
      " 'long_term_incentive': 1586055,\n",
      " 'other': 2660303,\n",
      " 'poi': False,\n",
      " 'restricted_stock': 3942714,\n",
      " 'restricted_stock_deferred': 'NaN',\n",
      " 'salary': 267102,\n",
      " 'shared_receipt_with_poi': 'NaN',\n",
      " 'to_messages': 'NaN',\n",
      " 'total_payments': 5634343,\n",
      " 'total_stock_value': 10623258}\n"
     ]
    }
   ],
   "source": [
    "stop = 0\n",
    "for k, v in data_dict.iteritems():\n",
    "    print k\n",
    "    pprint.pprint(v)\n",
    "    if stop == 1:\n",
    "        break\n",
    "    stop += 1"
   ]
  },
  {
   "cell_type": "markdown",
   "metadata": {},
   "source": [
    "The keys of data_dict are the names of people and the values are various features. Every feature except poi and email_address are numerical values. It looks like it is either a number of 'NaN' when the data is missing. And poi is a boolean value that I can use to find POI's."
   ]
  },
  {
   "cell_type": "code",
   "execution_count": 101,
   "metadata": {
    "collapsed": false
   },
   "outputs": [
    {
     "name": "stdout",
     "output_type": "stream",
     "text": [
      "The number of features: 21\n"
     ]
    }
   ],
   "source": [
    "### Finding the number of features\n",
    "for k,v in data_dict.iteritems():\n",
    "    print \"The number of features:\", len(v)\n",
    "    features_list = v.keys() # features are saved separately for later use\n",
    "    break"
   ]
  },
  {
   "cell_type": "markdown",
   "metadata": {},
   "source": [
    "There are total 21 features in the dataset. I will ignore \"email_address\" because they are not numerical values. And I will ingore 'other' as well because I don't know what this is."
   ]
  },
  {
   "cell_type": "code",
   "execution_count": 102,
   "metadata": {
    "collapsed": false
   },
   "outputs": [
    {
     "name": "stdout",
     "output_type": "stream",
     "text": [
      "The type of data: <type 'numpy.ndarray'>\n",
      "The total number of data (145L, 19L)\n"
     ]
    }
   ],
   "source": [
    "### Removing poi and email_address\n",
    "try:\n",
    "    features_list.remove(\"email_address\")\n",
    "    features_list.remove(\"other\")\n",
    "except:\n",
    "    pass\n",
    "\n",
    "### Convert data_dict into numpy array\n",
    "data = featureFormat(data_dict, features_list)\n",
    "print \"The type of data:\", type(data)\n",
    "print \"The total number of data\", data.shape"
   ]
  },
  {
   "cell_type": "markdown",
   "metadata": {},
   "source": [
    "Now the data_dict is converted to numpy array. And it contains 145 rows and 19 columns. \n",
    "featureFormat ignores the \"NaN\" values and creates numpy array that I can use it for the analysis more easily.\n",
    "\n",
    "Using data numpy array I will check the number of poi's and non-poi's."
   ]
  },
  {
   "cell_type": "code",
   "execution_count": 103,
   "metadata": {
    "collapsed": false
   },
   "outputs": [
    {
     "name": "stdout",
     "output_type": "stream",
     "text": [
      "The total number of poi: 18.0\n",
      "The total number of non-poi: 127.0\n"
     ]
    }
   ],
   "source": [
    "### Finding the index of poi\n",
    "poi_ind = features_list.index(\"poi\")\n",
    "\n",
    "### Print out the number of poi and non-poi\n",
    "print \"The total number of poi:\", np.sum(data[:,poi_ind])\n",
    "print \"The total number of non-poi:\", np.size(data[:,poi_ind]) - np.sum(data[:,poi_ind])"
   ]
  },
  {
   "cell_type": "markdown",
   "metadata": {},
   "source": [
    "There are total 18 POI and 127 non-POI."
   ]
  },
  {
   "cell_type": "code",
   "execution_count": 104,
   "metadata": {
    "collapsed": false
   },
   "outputs": [],
   "source": [
    "### Move poi column to the end\n",
    "### data\n",
    "tmp_data = data\n",
    "tmp_data[:,-1] = data[:,poi_ind]\n",
    "tmp_data[:,poi_ind] = data[:,-1]\n",
    "data = tmp_data\n",
    "\n",
    "### features_list\n",
    "tmp = features_list[-1]\n",
    "features_list[poi_ind] = tmp\n",
    "features_list[-1] = \"poi\"\n",
    "\n",
    "### Reassign poi index\n",
    "poi_ind = features_list.index(\"poi\")"
   ]
  },
  {
   "cell_type": "markdown",
   "metadata": {},
   "source": [
    "I moved poi column to the end to use the data more easily."
   ]
  },
  {
   "cell_type": "markdown",
   "metadata": {},
   "source": [
    "## Plotting\n",
    "\n",
    "From now on, I will start drawing various plots for univariate analysis and bivariate analysis.\n",
    "I will draw histograms for each feature first."
   ]
  },
  {
   "cell_type": "code",
   "execution_count": 105,
   "metadata": {
    "collapsed": false
   },
   "outputs": [
    {
     "data": {
      "image/png": "[encoded data removed]",
      "text/plain": [
       "<matplotlib.figure.Figure at 0xa379908>"
      ]
     },
     "metadata": {},
     "output_type": "display_data"
    }
   ],
   "source": [
    "### Create new features list without poi\n",
    "features_list_new = [ii for ii in features_list if ii != \"poi\"]\n",
    "\n",
    "%matplotlib inline\n",
    "### 20 histograms for features\n",
    "plt.rcParams[\"figure.figsize\"] = (20,20)\n",
    "f, axarr = plt.subplots(6, 3)\n",
    "\n",
    "### the histogram of the data\n",
    "### x: x coordinate values, y: y coordinate values\n",
    "### r: row index, c: column index\n",
    "### title: title of a subplot\n",
    "def subplot_histogram(x, bins, r, c, title):\n",
    "    axarr[r, c].hist(x, bins = bins)\n",
    "    axarr[r, c].set_title(title)\n",
    "    axarr[r, c].set_ylabel(\"count\")\n",
    "\n",
    "for i in range(len(features_list_new)):\n",
    "    subplot_histogram(data[:,i],50,i/3,i%3,features_list_new[i])\n",
    "\n",
    "plt.show()"
   ]
  },
  {
   "cell_type": "markdown",
   "metadata": {},
   "source": [
    "Above diagrams show 19 histograms. I first created new list of features excluding poi because array of poi consists of only true or false so it won't provide an insightful histogram. \n",
    "\n",
    "Looking at these histograms, I can see there are outliers for every feature.\n",
    "\n",
    "I will look into salary more deeply and see if there is any interesting thing going on."
   ]
  },
  {
   "cell_type": "code",
   "execution_count": 106,
   "metadata": {
    "collapsed": false
   },
   "outputs": [
    {
     "data": {
      "image/png": "[encoded data removed]",
      "text/plain": [
       "<matplotlib.figure.Figure at 0xbd7e3c8>"
      ]
     },
     "metadata": {},
     "output_type": "display_data"
    }
   ],
   "source": [
    "%matplotlib inline\n",
    "### Find indices for salary\n",
    "salary_ind = features_list.index(\"salary\")\n",
    "\n",
    "### Set the size of the plot\n",
    "plt.rcParams[\"figure.figsize\"] = (20,5)\n",
    "\n",
    "### Draw Salary histogram\n",
    "plt.hist(data[:,salary_ind], bins=100)\n",
    "plt.xlabel(\"salary\")\n",
    "plt.ylabel(\"count\")\n",
    "plt.title(\"Salary Histogram\")\n",
    "plt.show()"
   ]
  },
  {
   "cell_type": "markdown",
   "metadata": {},
   "source": [
    "Now I will get rid of the outlier above 2.5e7 and replot the histogram"
   ]
  },
  {
   "cell_type": "code",
   "execution_count": 107,
   "metadata": {
    "collapsed": false
   },
   "outputs": [
    {
     "name": "stdout",
     "output_type": "stream",
     "text": [
      "53408458.0 is the total sum of salaries\n",
      "26704229.0 is removed\n"
     ]
    },
    {
     "data": {
      "image/png": "[encoded data removed]",
      "text/plain": [
       "<matplotlib.figure.Figure at 0x1118c860>"
      ]
     },
     "metadata": {},
     "output_type": "display_data"
    }
   ],
   "source": [
    "### Total sum of salaries\n",
    "import numpy as np\n",
    "print np.sum(data[:,salary_ind]), \"is the total sum of salaries\"\n",
    "\n",
    "### Create new array that contains salar values without outliers\n",
    "salary_no_outliers = []\n",
    "for i in data[:,salary_ind]:\n",
    "    if i < 2.5e7:\n",
    "        salary_no_outliers.append(i)\n",
    "    else:\n",
    "        print i, \"is removed\"\n",
    "\n",
    "### Draw Salary histogram\n",
    "plt.hist(salary_no_outliers, bins=100)\n",
    "plt.xlabel(\"salary without outliers\")\n",
    "plt.ylabel(\"count\")\n",
    "plt.title(\"Salary Histogram\")\n",
    "plt.show()"
   ]
  },
  {
   "cell_type": "markdown",
   "metadata": {},
   "source": [
    "The outlier removed is half of the total sum of salary array, which means someone added a total sum of salaries into the data. I believe that in data_dict there is a key that contains the sum of every feature."
   ]
  },
  {
   "cell_type": "code",
   "execution_count": 108,
   "metadata": {
    "collapsed": false
   },
   "outputs": [
    {
     "name": "stdout",
     "output_type": "stream",
     "text": [
      "TOTAL {'salary': 26704229, 'to_messages': 'NaN', 'deferral_payments': 32083396, 'total_payments': 309886585, 'exercised_stock_options': 311764000, 'bonus': 97343619, 'restricted_stock': 130322299, 'shared_receipt_with_poi': 'NaN', 'restricted_stock_deferred': -7576788, 'total_stock_value': 434509511, 'expenses': 5235198, 'loan_advances': 83925000, 'from_messages': 'NaN', 'other': 42667589, 'from_this_person_to_poi': 'NaN', 'poi': False, 'director_fees': 1398517, 'deferred_income': -27992891, 'long_term_incentive': 48521928, 'email_address': 'NaN', 'from_poi_to_this_person': 'NaN'}\n"
     ]
    }
   ],
   "source": [
    "for k,v in data_dict.iteritems():\n",
    "    if v[\"salary\"] == 26704229.0:\n",
    "        print k,v"
   ]
  },
  {
   "cell_type": "markdown",
   "metadata": {},
   "source": [
    "As I expected one of the keys in data_dict is TOTAL. I will create a new dictionary that excludes this key."
   ]
  },
  {
   "cell_type": "code",
   "execution_count": 109,
   "metadata": {
    "collapsed": false
   },
   "outputs": [
    {
     "name": "stdout",
     "output_type": "stream",
     "text": [
      "The length of the new data_dict: 145\n"
     ]
    }
   ],
   "source": [
    "### New data_dict excluding TOTAL key\n",
    "data_dict_new = {}\n",
    "\n",
    "for k, v in data_dict.iteritems():\n",
    "    if k != \"TOTAL\":\n",
    "        data_dict_new[k] = v\n",
    "\n",
    "### Print out the new data_dict length\n",
    "print \"The length of the new data_dict:\", len(data_dict_new)\n",
    "    "
   ]
  },
  {
   "cell_type": "markdown",
   "metadata": {},
   "source": [
    "Now there are 145 data in the data_dict_new. I will graph the histograms again."
   ]
  },
  {
   "cell_type": "code",
   "execution_count": 110,
   "metadata": {
    "collapsed": false
   },
   "outputs": [
    {
     "data": {
      "image/png": "[encoded data removed]",
      "text/plain": [
       "<matplotlib.figure.Figure at 0xa0d1710>"
      ]
     },
     "metadata": {},
     "output_type": "display_data"
    }
   ],
   "source": [
    "### Convert data_dict_new into numpy array\n",
    "data = featureFormat(data_dict_new, features_list)\n",
    "\n",
    "%matplotlib inline\n",
    "### 20 histograms for features\n",
    "plt.rcParams[\"figure.figsize\"] = (20,20)\n",
    "f, axarr = plt.subplots(6, 3)\n",
    "\n",
    "### the histogram of the data\n",
    "### x: x coordinate values, y: y coordinate values\n",
    "### r: row index, c: column index\n",
    "### title: title of a subplot\n",
    "def subplot_histogram(x, bins, r, c, title):\n",
    "    axarr[r, c].hist(x, bins = bins)\n",
    "    axarr[r, c].set_title(title)\n",
    "    axarr[r, c].set_ylabel(\"count\")\n",
    "\n",
    "for i in range(len(features_list_new)):\n",
    "    subplot_histogram(data[:,i],50,i/3,i%3,features_list_new[i])\n",
    "\n",
    "plt.show()"
   ]
  },
  {
   "cell_type": "markdown",
   "metadata": {},
   "source": [
    "The histograms are better than before. Although there are still outliers in histograms, getting rid of them might not be a good idea because those values may be helpful identifying POI's.\n",
    "\n",
    "I suspect that some of these features will have too many zeros because featureFormat function convert NaN to zero in some cases. I will print out the number of zeros for each feature. "
   ]
  },
  {
   "cell_type": "code",
   "execution_count": 111,
   "metadata": {
    "collapsed": false
   },
   "outputs": [
    {
     "name": "stdout",
     "output_type": "stream",
     "text": [
      "salary: 50, 34%\n",
      "to_messages: 58, 40%\n",
      "deferral_payments: 106, 73%\n",
      "total_payments: 20, 13%\n",
      "exercised_stock_options: 43, 29%\n",
      "bonus: 63, 43%\n",
      "restricted_stock: 35, 24%\n",
      "shared_receipt_with_poi: 58, 40%\n",
      "restricted_stock_deferred: 127, 88%\n",
      "total_stock_value: 19, 13%\n",
      "expenses: 50, 34%\n",
      "loan_advances: 141, 97%\n",
      "from_messages: 58, 40%\n",
      "from_this_person_to_poi: 78, 54%\n",
      "from_poi_to_this_person: 70, 48%\n",
      "director_fees: 128, 88%\n",
      "deferred_income: 96, 66%\n",
      "long_term_incentive: 79, 54%\n"
     ]
    }
   ],
   "source": [
    "### defining function that counts zeros\n",
    "def counting_zeros(data, features_list, feature):\n",
    "    total_count = 0\n",
    "    count = 0\n",
    "    feature_data = data[:,features_list.index(feature)]\n",
    "    for i in feature_data:\n",
    "        total_count += 1\n",
    "        if i == 0:\n",
    "            count += 1\n",
    "    print \"{}: {}, {}%\".format(feature,count, int(float(count)*100/float(total_count)))\n",
    "\n",
    "### Printing out the number of zeros for each feature\n",
    "for i in features_list[:-1]:\n",
    "    counting_zeros(data, features_list, i)"
   ]
  },
  {
   "cell_type": "markdown",
   "metadata": {},
   "source": [
    "I will ignore features with more than 60% of zeros from now on.\n",
    "\n",
    "### Features that will be ignored:\n",
    "- deferral_payments\n",
    "- restricted_stock_deferred\n",
    "- loan_advances\n",
    "- director_fees\n",
    "- deferred_income\n",
    "\n",
    "I will recreate data numpy array and features_list array that exclude the features above."
   ]
  },
  {
   "cell_type": "code",
   "execution_count": 112,
   "metadata": {
    "collapsed": false
   },
   "outputs": [
    {
     "name": "stdout",
     "output_type": "stream",
     "text": [
      "(144L, 14L)\n"
     ]
    }
   ],
   "source": [
    "### Save the original features_list before change\n",
    "features_list_original = features_list\n",
    "\n",
    "### list of features with too many zeros\n",
    "too_many_zeros = [\"deferral_payments\", \n",
    "                  \"restricted_stock_deferred\",\n",
    "                  \"loan_advances\",\n",
    "                  \"director_fees\",\n",
    "                  \"deferred_income\"]\n",
    "\n",
    "### remove the above features from features_list\n",
    "for i in too_many_zeros:\n",
    "    if i in features_list:\n",
    "        features_list.remove(i)\n",
    "        \n",
    "### Convert data_dict_new into numpy array\n",
    "data = featureFormat(data_dict_new, features_list)\n",
    "print data.shape"
   ]
  },
  {
   "cell_type": "markdown",
   "metadata": {},
   "source": [
    "Now the number of columns of data is reduced to 14."
   ]
  },
  {
   "cell_type": "markdown",
   "metadata": {},
   "source": [
    "### Checking Scores\n",
    "\n",
    "Now I am going to test each feature using GaussianNB and check the accuracy, precision and recall. Then I will use features with high values for later use.\n",
    "\n",
    "I will employ tester functions from tester."
   ]
  },
  {
   "cell_type": "code",
   "execution_count": 113,
   "metadata": {
    "collapsed": true
   },
   "outputs": [],
   "source": [
    "### Import functions from tester_edited.py\n",
    "from tester_edited import load_classifier_and_data, test_classifier\n",
    "from sklearn.cross_validation import StratifiedShuffleSplit"
   ]
  },
  {
   "cell_type": "markdown",
   "metadata": {},
   "source": [
    "This will be a repetitive process so I will create a function to do this."
   ]
  },
  {
   "cell_type": "code",
   "execution_count": 114,
   "metadata": {
    "collapsed": false
   },
   "outputs": [],
   "source": [
    "### the code is from \"poi_id.py\" from final_project folder.\n",
    "### this function will split the data into test and train\n",
    "### apply classifier and calculate the accuracy, precision and recall\n",
    "def test(features_list, clf, print_result=False, draw_graph=False, rescale=False):\n",
    "    ### Store to my_dataset for easy export below.\n",
    "    my_dataset = data_dict\n",
    "    \n",
    "    ### Extract features and labels from dataset for local testing\n",
    "    data = featureFormat(my_dataset, features_list, sort_keys = True)\n",
    "    labels, features = targetFeatureSplit(data)\n",
    "    \n",
    "#     ### Split train and test by 30 %\n",
    "#     from sklearn.cross_validation import train_test_split\n",
    "#     features_train, features_test, labels_train, labels_test = \\\n",
    "#         train_test_split(features, labels, test_size=0.3, random_state=42)\n",
    "        \n",
    "    ### Dump the data to the local files\n",
    "    dump_classifier_and_data(clf, my_dataset, features_list)\n",
    "    \n",
    "    ### Load the data from the local files\n",
    "    clf, dataset, feature_list = load_classifier_and_data()\n",
    "    \n",
    "    ### Print out the result\n",
    "    scores = test_classifier(\n",
    "        clf, dataset, feature_list, \n",
    "        print_result=print_result, draw_graph=draw_graph, rescale=rescale)\n",
    "    return scores\n",
    "\n",
    "### import GaussianNB\n",
    "from sklearn.naive_bayes import GaussianNB\n",
    "\n",
    "### import Decision Tree\n",
    "from sklearn import tree\n",
    "\n",
    "### This function only test the data using\n",
    "### GaussianNB and Decision Tree\n",
    "def classify_simple(features_list, print_result=False):\n",
    "    print \"Features list:\", features_list[1:]\n",
    "    \n",
    "    ### Set GaussianNB\n",
    "    clf_NB = GaussianNB()\n",
    "\n",
    "    ### Set Decision Tree\n",
    "    clf_tree = tree.DecisionTreeClassifier()\n",
    "    \n",
    "    ### Call test function and print out test\n",
    "    scores_NB = test(features_list,clf_NB, print_result=print_result)\n",
    "    tree_NB = test(features_list,clf_tree, print_result=print_result)\n",
    "    return [ scores_NB, tree_NB ]"
   ]
  },
  {
   "cell_type": "markdown",
   "metadata": {},
   "source": [
    "I created a function that can show the accuracy, precision and recall values from features list input. The test function is mainly from the \"poi-id.py\" file from the final project folder. I creates clf for classifier, features list and dataset so that it can be loaded in test_classifier function in \"tester.py\" file. Note that the validation used in this code is Train/Test split. The purpose is not to get the largest scores but to select features that show the high scores compared to the others. So I don't use other cross validation for now. For the same reason, I don't specify any parameter for classifiers. The parameters will be adjusted at a later section."
   ]
  },
  {
   "cell_type": "code",
   "execution_count": 115,
   "metadata": {
    "collapsed": false
   },
   "outputs": [
    {
     "name": "stdout",
     "output_type": "stream",
     "text": [
      "Features list: ['salary']\n",
      "\n",
      "GaussianNB()\n",
      "\n",
      "\tBest parameters:\n",
      "\tNo GridSearch\n",
      "\n",
      "\tAccuracy: 0.25560\tPrecision: 0.18481\tRecall: 0.79800\tF1: 0.30011\tF2: 0.47968\n",
      "\tTotal predictions: 20000\tTrue positives: 3192\tFalse positives: 14080\tFalse negatives:  808\tTrue negatives: 1920\n",
      "\n",
      "\n",
      "DecisionTreeClassifier(class_weight=None, criterion='gini', max_depth=None,\n",
      "            max_features=None, max_leaf_nodes=None, min_samples_leaf=1,\n",
      "            min_samples_split=2, min_weight_fraction_leaf=0.0,\n",
      "            presort=False, random_state=None, splitter='best')\n",
      "\n",
      "\tBest parameters:\n",
      "\tNo GridSearch\n",
      "\n",
      "\tAccuracy: 0.69210\tPrecision: 0.23619\tRecall: 0.24150\tF1: 0.23881\tF2: 0.24042\n",
      "\tTotal predictions: 20000\tTrue positives:  966\tFalse positives: 3124\tFalse negatives: 3034\tTrue negatives: 12876\n",
      "\n"
     ]
    },
    {
     "data": {
      "text/plain": [
       "[[0.2556, 0.18480778138026865, 0.798], [0.6921, 0.23618581907090463, 0.2415]]"
      ]
     },
     "execution_count": 115,
     "metadata": {},
     "output_type": "execute_result"
    }
   ],
   "source": [
    "### Always put poi at the zeroth index\n",
    "classify_simple([\"poi\", \"salary\"],print_result=True)"
   ]
  },
  {
   "cell_type": "markdown",
   "metadata": {},
   "source": [
    "I ran the function using poi and salary. Fortunately the function works.\n",
    "\n",
    "I will use this function for all the other features."
   ]
  },
  {
   "cell_type": "code",
   "execution_count": 116,
   "metadata": {
    "collapsed": false,
    "scrolled": true
   },
   "outputs": [
    {
     "name": "stdout",
     "output_type": "stream",
     "text": [
      "Features list: ['salary']\n",
      "Features list: ['to_messages']\n",
      "Got a divide by zero when trying out: GaussianNB()\n",
      "Precision or recall may be undefined due to a lack of true positive predicitons.\n",
      "\n",
      "Features list: ['total_payments']\n",
      "Features list: ['exercised_stock_options']\n",
      "Features list: ['bonus']\n",
      "Features list: ['restricted_stock']\n",
      "Features list: ['shared_receipt_with_poi']\n",
      "Got a divide by zero when trying out: GaussianNB()\n",
      "Precision or recall may be undefined due to a lack of true positive predicitons.\n",
      "\n",
      "Features list: ['total_stock_value']\n",
      "Features list: ['expenses']\n",
      "Features list: ['from_messages']\n",
      "Got a divide by zero when trying out: GaussianNB()\n",
      "Precision or recall may be undefined due to a lack of true positive predicitons.\n",
      "\n",
      "Features list: ['from_this_person_to_poi']\n",
      "Got a divide by zero when trying out: GaussianNB()\n",
      "Precision or recall may be undefined due to a lack of true positive predicitons.\n",
      "\n",
      "Features list: ['from_poi_to_this_person']\n",
      "Features list: ['long_term_incentive']\n"
     ]
    }
   ],
   "source": [
    "### Iterate over the features_list\n",
    "scores_list = {}\n",
    "for i in features_list[:-1]:\n",
    "    scores_list[i] = classify_simple([\"poi\", i])"
   ]
  },
  {
   "cell_type": "code",
   "execution_count": 117,
   "metadata": {
    "collapsed": false
   },
   "outputs": [
    {
     "name": "stdout",
     "output_type": "stream",
     "text": [
      "      Accuarcy Precision Recall\n",
      "salary\n",
      "NB     0.2556  0.1848  0.7980\n",
      "tree   0.6921  0.2362  0.2415\n",
      "to_messages\n",
      "NB     ---------None---------\n",
      "tree   0.7371  0.0856  0.1410\n",
      "total_payments\n",
      "NB     0.7631  0.0694  0.0435\n",
      "tree   0.7393  0.0804  0.0665\n",
      "bonus\n",
      "NB     0.3780  0.2223  0.7200\n",
      "tree   0.7623  0.4427  0.2685\n",
      "total_stock_value\n",
      "NB     0.8406  0.3200  0.0320\n",
      "tree   0.7584  0.2300  0.2430\n",
      "shared_receipt_with_poi\n",
      "NB     ---------None---------\n",
      "tree   0.8421  0.3020  0.3210\n",
      "exercised_stock_options\n",
      "NB     0.8994  0.2108  0.0390\n",
      "tree   0.8571  0.2686  0.3320\n",
      "from_messages\n",
      "NB     ---------None---------\n",
      "tree   0.7259  0.0067  0.0100\n",
      "from_this_person_to_poi\n",
      "NB     ---------None---------\n",
      "tree   0.7444  0.0218  0.0180\n",
      "long_term_incentive\n",
      "NB     0.3980  0.1471  0.6700\n",
      "tree   0.6943  0.0250  0.0300\n",
      "expenses\n",
      "NB     0.3068  0.1885  0.7460\n",
      "tree   0.6466  0.1295  0.1340\n",
      "restricted_stock\n",
      "NB     0.7380  0.1013  0.0560\n",
      "tree   0.7297  0.1196  0.0765\n",
      "from_poi_to_this_person\n",
      "NB     0.7365  0.0263  0.0015\n",
      "tree   0.6425  0.1312  0.0765\n"
     ]
    }
   ],
   "source": [
    "### Print out scores of each feature\n",
    "print \"      Accuarcy Precision Recall\"\n",
    "for k,v in scores_list.iteritems():\n",
    "    print k\n",
    "    if v[0] == None:\n",
    "        print \"NB     ---------None---------\"\n",
    "    else:\n",
    "        print \"NB     {0:.4f}  {1:.4f}  {2:.4f}\".format(v[0][0], v[0][1], v[0][2])\n",
    "    print \"tree   {0:.4f}  {1:.4f}  {2:.4f}\".format(v[1][0], v[1][1], v[1][2])"
   ]
  },
  {
   "cell_type": "markdown",
   "metadata": {},
   "source": [
    "Notice that those features where NB score is zero have zeros more than 50%. Initially I thought removing features with zeros more than 60% might be sufficient but apparently I should have set my threshold to be 60% instead of 50%.\n",
    "\n",
    "And I will remove total_payments from my list because this feature has precision and recall values less than 1%."
   ]
  },
  {
   "cell_type": "code",
   "execution_count": 118,
   "metadata": {
    "collapsed": false
   },
   "outputs": [
    {
     "name": "stdout",
     "output_type": "stream",
     "text": [
      "Shape of data: (139L, 9L)\n",
      "['salary',\n",
      " 'exercised_stock_options',\n",
      " 'bonus',\n",
      " 'restricted_stock',\n",
      " 'total_stock_value',\n",
      " 'expenses',\n",
      " 'from_poi_to_this_person',\n",
      " 'long_term_incentive',\n",
      " 'poi']\n"
     ]
    }
   ],
   "source": [
    "### list of features with too many zeros above 50%\n",
    "too_many_zeros = [\"to_messages\",\n",
    "                  \"shared_receipt_with_poi\",\n",
    "                  \"from_messages\",\n",
    "                  \"from_this_person_to_poi\",\n",
    "                  \"total_payments\"]\n",
    "\n",
    "### remove the above features from features_list\n",
    "for i in too_many_zeros:\n",
    "    if i in features_list:\n",
    "        features_list.remove(i)\n",
    "        \n",
    "### Convert data_dict_new into numpy array\n",
    "data = featureFormat(data_dict_new, features_list)\n",
    "print \"Shape of data:\", data.shape\n",
    "pprint.pprint(features_list)"
   ]
  },
  {
   "cell_type": "markdown",
   "metadata": {},
   "source": [
    "The number of columns are reduced to 9 including poi. Let's print the result again only from these features."
   ]
  },
  {
   "cell_type": "code",
   "execution_count": 119,
   "metadata": {
    "collapsed": false
   },
   "outputs": [
    {
     "name": "stdout",
     "output_type": "stream",
     "text": [
      "      Accuarcy Precision Recall\n",
      "salary\n",
      "NB     0.2556  0.1848  0.7980\n",
      "tree   0.6921  0.2362  0.2415\n",
      "bonus\n",
      "NB     0.3780  0.2223  0.7200\n",
      "tree   0.7623  0.4427  0.2685\n",
      "total_stock_value\n",
      "NB     0.8406  0.3200  0.0320\n",
      "tree   0.7584  0.2300  0.2430\n",
      "exercised_stock_options\n",
      "NB     0.8994  0.2108  0.0390\n",
      "tree   0.8571  0.2686  0.3320\n",
      "long_term_incentive\n",
      "NB     0.3980  0.1471  0.6700\n",
      "tree   0.6943  0.0250  0.0300\n",
      "expenses\n",
      "NB     0.3068  0.1885  0.7460\n",
      "tree   0.6466  0.1295  0.1340\n",
      "restricted_stock\n",
      "NB     0.7380  0.1013  0.0560\n",
      "tree   0.7297  0.1196  0.0765\n",
      "from_poi_to_this_person\n",
      "NB     0.7365  0.0263  0.0015\n",
      "tree   0.6425  0.1312  0.0765\n"
     ]
    }
   ],
   "source": [
    "### Print out scores of each feature\n",
    "print \"      Accuarcy Precision Recall\"\n",
    "for k,v in scores_list.iteritems():\n",
    "    if k in features_list:\n",
    "        print k\n",
    "        if v[0] == None:\n",
    "            print \"NB     ---------None---------\"\n",
    "        else:\n",
    "            print \"NB     {0:.4f}  {1:.4f}  {2:.4f}\".format(v[0][0], v[0][1], v[0][2])\n",
    "        print \"tree   {0:.4f}  {1:.4f}  {2:.4f}\".format(v[1][0], v[1][1], v[1][2])"
   ]
  },
  {
   "cell_type": "markdown",
   "metadata": {},
   "source": [
    "From the result above, the features with the best scores are **bonus**, **exercised_stock_options** and **total_stock_value**.\n",
    "I will use these features as my main dependent variables for the bivariate analysis."
   ]
  },
  {
   "cell_type": "markdown",
   "metadata": {},
   "source": [
    "## Bivariate Analysis"
   ]
  },
  {
   "cell_type": "markdown",
   "metadata": {},
   "source": [
    "In bivariate analysis section, I will investigate the relationship between two features.\n",
    "Below is the list of pairs of features I am going to see.\n",
    "\n",
    "**Pairs of Best features**\n",
    "- bonus and exercised_stock_options\n",
    "- bonus and total_stock_value\n",
    "- exercised_stock_options and total_stock_value\n",
    "\n",
    "**Best features and others** *x is bonus, exercised_stock_options or total_stock_value*\n",
    "- x and salary\n",
    "- x and restricted_stock\n",
    "- x and expenses\n",
    "- x and from_poi_to_this_person\n",
    "- x and long_term_incentive\n",
    "\n",
    "There are total 18 scatter plots. For each scatter plot, if I see something interesting, I will use Naive Bayes and SVM (rdf) to see the accuracy, precision and recall.\n",
    "\n",
    "At the end of this section, I will gather the pairs of features with high positive correlation for PCA. I will combine the pairs of features with the largest accuracy and use them for the further analysis."
   ]
  },
  {
   "cell_type": "markdown",
   "metadata": {},
   "source": [
    "### Bonus and Exercised Stock Options"
   ]
  },
  {
   "cell_type": "markdown",
   "metadata": {},
   "source": [
    "I will first check the relationship between bonus and exercised_stock_options by graphing a scatter plot."
   ]
  },
  {
   "cell_type": "code",
   "execution_count": 120,
   "metadata": {
    "collapsed": false
   },
   "outputs": [
    {
     "data": {
      "image/png": "[encoded data removed]",
      "text/plain": [
       "<matplotlib.figure.Figure at 0x10a74390>"
      ]
     },
     "metadata": {},
     "output_type": "display_data"
    }
   ],
   "source": [
    "%matplotlib inline\n",
    "### Set the size of the plot\n",
    "plt.rcParams[\"figure.figsize\"] = (6,6)\n",
    "\n",
    "### Draw Salary histogram\n",
    "plt.scatter(data[:,features_list.index(\"bonus\")], data[:,features_list.index(\"exercised_stock_options\")])\n",
    "plt.xlabel(\"bonus\")\n",
    "plt.ylabel(\"exercised_stock_options\")\n",
    "plt.title(\"bonus and exercised_stock_options\")\n",
    "plt.show()"
   ]
  },
  {
   "cell_type": "markdown",
   "metadata": {
    "collapsed": true
   },
   "source": [
    "I will add colors to this scatter plot. I will color the points from poi to be red and the others to be blue."
   ]
  },
  {
   "cell_type": "code",
   "execution_count": 92,
   "metadata": {
    "collapsed": false,
    "scrolled": true
   },
   "outputs": [
    {
     "data": {
      "image/png": "[encoded data removed]",
      "text/plain": [
       "<matplotlib.figure.Figure at 0x9d3d3c8>"
      ]
     },
     "metadata": {},
     "output_type": "display_data"
    }
   ],
   "source": [
    "%matplotlib inline\n",
    "### Set the size of the plot\n",
    "plt.rcParams[\"figure.figsize\"] = (6,6)\n",
    "\n",
    "### Reassign poi index\n",
    "poi_ind = features_list.index(\"poi\")\n",
    "bon_ind = features_list.index(\"bonus\")\n",
    "eso_ind = features_list.index(\"exercised_stock_options\")\n",
    "\n",
    "### Create arrays for salary and bonus for poi and non-poi\n",
    "bon_poi     = [data[:,bon_ind][ii] for ii in range(0, len(data[:,0])) if data[:,poi_ind][ii]]\n",
    "eso_poi     = [data[:,eso_ind][ii] for ii in range(0, len(data[:,0])) if data[:,poi_ind][ii]]\n",
    "bon_nonpoi  = [data[:,bon_ind][ii] for ii in range(0, len(data[:,0])) if not data[:,poi_ind][ii]]\n",
    "eso_nonpoi  = [data[:,eso_ind][ii] for ii in range(0, len(data[:,0])) if not data[:,poi_ind][ii]]\n",
    "\n",
    "### Draw Salary histogram\n",
    "plt.scatter(bon_poi,eso_poi,color=\"r\",label=\"poi\")\n",
    "plt.scatter(bon_nonpoi,eso_nonpoi,color=\"b\",label=\"non-poi\")\n",
    "plt.legend()\n",
    "plt.xlabel(\"bonus\")\n",
    "plt.ylabel(\"exercised_stock_options\")\n",
    "plt.title(\"bonus and exercised_stock_options\")\n",
    "plt.show()"
   ]
  },
  {
   "cell_type": "markdown",
   "metadata": {},
   "source": [
    "The cluster at the left bottom corner doesn't tell us much. It is difficult to identify any pattern in this cluster.\n",
    "\n",
    "There are 4 poi at the upper right corner that are seperated from the cluster.\n",
    "\n",
    "Now let's use these features and see how accurately they find POI's.\n",
    "\n",
    "I will use **GaussianNB**, **DecisionTree**, **SVM**, **KNN**, **Linear Regression** and **Lasso Regression** using various parameters.\n",
    "\n",
    "This will be a repititive process so I will create functions for each classifiers."
   ]
  },
  {
   "cell_type": "markdown",
   "metadata": {},
   "source": [
    "## Functions of Classifiers\n",
    "### Creating classify_advanced function"
   ]
  },
  {
   "cell_type": "code",
   "execution_count": 32,
   "metadata": {
    "collapsed": false
   },
   "outputs": [],
   "source": [
    "### Use GridSearchCV to find the best parameters\n",
    "from sklearn.grid_search import GridSearchCV\n",
    "\n",
    "def classify_advanced(features_list, classifiers, \n",
    "                      print_result=False, draw_graph=False):\n",
    "    ### Print out features being classified\n",
    "    print \"Features list:\", features_list[1:]\n",
    "    \n",
    "    ### Create an empty scores array\n",
    "    scores = []\n",
    "    \n",
    "    ### for each classifier in classifiers calculate scores\n",
    "    for classifier in classifiers:\n",
    "        if classifier == \"GaussianNB\":\n",
    "            ### set GaussianNB\n",
    "            clf = GaussianNB()\n",
    "            \n",
    "        elif classifier == \"DecisionTree\":\n",
    "            ### set Decision Tree\n",
    "            param_grid = {\n",
    "                'criterion': ['gini', 'entropy'],\n",
    "                'splitter' : ['best', 'random'],\n",
    "                'min_samples_split': range(2,10)\n",
    "                  }\n",
    "            clf = GridSearchCV(tree.DecisionTreeClassifier(), param_grid)\n",
    "        \n",
    "        elif classifier == \"SVM\":\n",
    "            from sklearn import svm\n",
    "            param_grid = {\n",
    "                'kernel': ['rbf', 'linear', 'poly'],\n",
    "                'degree': [1,2,3,4,5],\n",
    "                'gamma': ['auto', 0.1, 0.3, 0.5, 0.7]\n",
    "                }\n",
    "            clf = GridSearchCV(svm.SVC(), param_grid)\n",
    "        \n",
    "        elif classifier == \"KNN\":\n",
    "            from sklearn.neighbors import KNeighborsRegressor\n",
    "            param_grid = {\n",
    "                'n_neighbors': [1,2,3,4,5,6,7,8,9,10],\n",
    "                'weights': ['uniform', 'distance'],\n",
    "                'algorithm': ['auto','ball_tree','kd_tree','brute']\n",
    "            }\n",
    "            clf = GridSearchCV(KNeighborsRegressor(), param_grid)\n",
    "        \n",
    "        elif classifier == \"Regression\":\n",
    "            from sklearn.linear_model import LinearRegression\n",
    "            clf = LinearRegression()\n",
    "        \n",
    "        elif classifier == \"Lasso\":\n",
    "            from sklearn.linear_model import Lasso\n",
    "            param_grid = {\n",
    "                'selection': ['cyclic', 'random']\n",
    "            }\n",
    "            clf = GridSearchCV(Lasso(), param_grid)\n",
    "        \n",
    "        ### Call test function and print out test\n",
    "        scores.append(test(\n",
    "                features_list,clf,\n",
    "                print_result=print_result, draw_graph=draw_graph, rescale=True))\n",
    "    \n",
    "    return scores"
   ]
  },
  {
   "cell_type": "markdown",
   "metadata": {},
   "source": [
    "This function will be used whenever I check the scores for any combination of features. If I want to use GaussianNB then I just need to set 'classifiers = [\"GaussianNB\"]'. I can use multiple classifiers if I put 'classifiers = [\"GaussianNB\", \"DecisionTree\", \"SVM\"]'. In this case, the function prints out test scores for each classifier and shows the best parameter to be used.\n",
    "\n",
    "draw_graph parameter will draw a scatter plot from test set where red shaded area predicts poi and blue shaded area predicts non-poi.\n",
    "\n",
    "I will try to use this function with 'bonus' and 'exercised_stock_options' and see if the function works ok."
   ]
  },
  {
   "cell_type": "markdown",
   "metadata": {},
   "source": [
    "### Bonus and Exercised Stock Options - Decision Tree"
   ]
  },
  {
   "cell_type": "code",
   "execution_count": 33,
   "metadata": {
    "collapsed": false,
    "scrolled": true
   },
   "outputs": [
    {
     "name": "stdout",
     "output_type": "stream",
     "text": [
      "Features list: ['bonus', 'exercised_stock_options']\n",
      "drawing\n"
     ]
    },
    {
     "data": {
      "image/png": "[encoded data removed]",
      "text/plain": [
       "<matplotlib.figure.Figure at 0xd3124e0>"
      ]
     },
     "metadata": {},
     "output_type": "display_data"
    },
    {
     "name": "stdout",
     "output_type": "stream",
     "text": [
      "\n",
      "GridSearchCV(cv=None, error_score='raise',\n",
      "       estimator=DecisionTreeClassifier(class_weight=None, criterion='gini', max_depth=None,\n",
      "            max_features=None, max_leaf_nodes=None, min_samples_leaf=1,\n",
      "            min_samples_split=2, min_weight_fraction_leaf=0.0,\n",
      "            presort=False, random_state=None, splitter='best'),\n",
      "       fit_params={}, iid=True, n_jobs=1,\n",
      "       param_grid={'min_samples_split': [2, 3, 4, 5, 6, 7, 8, 9], 'splitter': ['best', 'random'], 'criterion': ['gini', 'entropy']},\n",
      "       pre_dispatch='2*n_jobs', refit=True, scoring=None, verbose=0)\n",
      "\n",
      "\tBest parameters:\n",
      "{'min_samples_split': 4, 'splitter': 'random', 'criterion': 'entropy'}\n",
      "\n",
      "\tAccuracy: 0.83677\tPrecision: 0.45805\tRecall: 0.33300\tF1: 0.38564\tF2: 0.35223\n",
      "\tTotal predictions: 26000\tTrue positives: 1332\tFalse positives: 1576\tFalse negatives: 2668\tTrue negatives: 20424\n",
      "\n"
     ]
    }
   ],
   "source": [
    "results = {}\n",
    "%matplotlib inline\n",
    "features = ['poi', 'bonus', 'exercised_stock_options']\n",
    "classifiers = ['DecisionTree']\n",
    "results[\"DecisionTree\"] = classify_advanced(features, classifiers, print_result=True, draw_graph=True)"
   ]
  },
  {
   "cell_type": "markdown",
   "metadata": {},
   "source": [
    "The function works find and the result is shown above.\n",
    "- Accuracy: ~ 83.3%\n",
    "- Precision: ~ 44.2%\n",
    "- Recall: ~ 31.6%\n",
    "\n",
    "*The scores will be slightly different because the algorithm randomly splits the data into test and train sets.*\n",
    "\n",
    "Although the scores are very nice, the problem is very obvious when you look at the graph.\n",
    "All of the test points are in the non-poi area and the reason why the scores could be so high is because the majority in the cluster at the left bottom corner is non-poi. So if we predict everything at these area to be non-poi then we will have pretty decent scores.\n",
    "\n",
    "Let's try calculate scores again with different classfiers."
   ]
  },
  {
   "cell_type": "markdown",
   "metadata": {},
   "source": [
    "### Bonus and Exercised Stock Options - GaussianNB"
   ]
  },
  {
   "cell_type": "code",
   "execution_count": 34,
   "metadata": {
    "collapsed": false
   },
   "outputs": [
    {
     "name": "stdout",
     "output_type": "stream",
     "text": [
      "Features list: ['bonus', 'exercised_stock_options']\n",
      "drawing\n"
     ]
    },
    {
     "data": {
      "image/png": "[encoded data removed]",
      "text/plain": [
       "<matplotlib.figure.Figure at 0xe959978>"
      ]
     },
     "metadata": {},
     "output_type": "display_data"
    },
    {
     "name": "stdout",
     "output_type": "stream",
     "text": [
      "\n",
      "GaussianNB()\n",
      "\n",
      "\tBest parameters:\n",
      "\tNo GridSearch\n",
      "\n",
      "\tAccuracy: 0.19708\tPrecision: 0.12458\tRecall: 0.70000\tF1: 0.21151\tF2: 0.36386\n",
      "\tTotal predictions: 26000\tTrue positives: 2800\tFalse positives: 19676\tFalse negatives: 1200\tTrue negatives: 2324\n",
      "\n"
     ]
    }
   ],
   "source": [
    "%matplotlib inline\n",
    "features = ['poi', 'bonus', 'exercised_stock_options']\n",
    "classifiers = ['GaussianNB']\n",
    "results[\"GaussianNB\"] = classify_advanced(features, classifiers, print_result=True, draw_graph=True)"
   ]
  },
  {
   "cell_type": "markdown",
   "metadata": {},
   "source": [
    "GaussianNB doesn't have parameters according to the document from sklearn. So this will be the faster to run than DecisionTree or SVM.\n",
    "\n",
    "The scores are shown above. *(The scores will be slightly different as I mentioned above.)*\n",
    "\n",
    "- Accuracy: 19.7 %\n",
    "- Precision: 12.5 %\n",
    "- Recall: 70%\n",
    "\n",
    "Although recall is quite high but other scores are pretty low because there are very few false negatives. So GaussianNB is good at identifying POI as POI. However, due to high false positives, we cannot trust the result when it says POI because a lot of them are in fact non-POIs. So GaussianNB is not a good classifier to use for these features."
   ]
  },
  {
   "cell_type": "markdown",
   "metadata": {},
   "source": [
    "### Bonus and Exercised Stock Options - SVM"
   ]
  },
  {
   "cell_type": "code",
   "execution_count": 35,
   "metadata": {
    "collapsed": false
   },
   "outputs": [
    {
     "name": "stdout",
     "output_type": "stream",
     "text": [
      "Features list: ['bonus', 'exercised_stock_options']\n",
      "drawing\n"
     ]
    },
    {
     "data": {
      "image/png": "[encoded data removed]",
      "text/plain": [
       "<matplotlib.figure.Figure at 0xa3a5c50>"
      ]
     },
     "metadata": {},
     "output_type": "display_data"
    },
    {
     "name": "stdout",
     "output_type": "stream",
     "text": [
      "Got a divide by zero when trying out: GridSearchCV(cv=None, error_score='raise',\n",
      "       estimator=SVC(C=1.0, cache_size=200, class_weight=None, coef0=0.0,\n",
      "  decision_function_shape=None, degree=3, gamma='auto', kernel='rbf',\n",
      "  max_iter=-1, probability=False, random_state=None, shrinking=True,\n",
      "  tol=0.001, verbose=False),\n",
      "       fit_params={}, iid=True, n_jobs=1,\n",
      "       param_grid={'kernel': ['rbf', 'linear', 'poly'], 'degree': [1, 2, 3, 4, 5], 'gamma': ['auto', 0.1, 0.3, 0.5, 0.7]},\n",
      "       pre_dispatch='2*n_jobs', refit=True, scoring=None, verbose=0)\n",
      "Precision or recall may be undefined due to a lack of true positive predicitons.\n",
      "\n"
     ]
    }
   ],
   "source": [
    "%matplotlib inline\n",
    "features = ['poi', 'bonus', 'exercised_stock_options']\n",
    "classifiers = ['SVM']\n",
    "results[\"SVM\"] = classify_advanced(features, classifiers, print_result=True, draw_graph=True)"
   ]
  },
  {
   "cell_type": "markdown",
   "metadata": {},
   "source": [
    "Error occurs. This error occurs when there are too many zeros. I guess SVM requires more non zero values than GaussianNB and DecisionTree. I will address this problem later."
   ]
  },
  {
   "cell_type": "markdown",
   "metadata": {},
   "source": [
    "### Bonus and Exercised Stock Options - KNN"
   ]
  },
  {
   "cell_type": "code",
   "execution_count": 36,
   "metadata": {
    "collapsed": false
   },
   "outputs": [
    {
     "name": "stdout",
     "output_type": "stream",
     "text": [
      "Features list: ['bonus', 'exercised_stock_options']\n",
      "drawing\n"
     ]
    },
    {
     "data": {
      "image/png": "[encoded data removed]",
      "text/plain": [
       "<matplotlib.figure.Figure at 0xe4b9eb8>"
      ]
     },
     "metadata": {},
     "output_type": "display_data"
    },
    {
     "name": "stdout",
     "output_type": "stream",
     "text": [
      "\n",
      "GridSearchCV(cv=None, error_score='raise',\n",
      "       estimator=KNeighborsRegressor(algorithm='auto', leaf_size=30, metric='minkowski',\n",
      "          metric_params=None, n_jobs=1, n_neighbors=5, p=2,\n",
      "          weights='uniform'),\n",
      "       fit_params={}, iid=True, n_jobs=1,\n",
      "       param_grid={'n_neighbors': [1, 2, 3, 4, 5, 6, 7, 8, 9, 10], 'weights': ['uniform', 'distance'], 'algorithm': ['auto', 'ball_tree', 'kd_tree', 'brute']},\n",
      "       pre_dispatch='2*n_jobs', refit=True, scoring=None, verbose=0)\n",
      "\n",
      "\tBest parameters:\n",
      "{'n_neighbors': 10, 'weights': 'uniform', 'algorithm': 'brute'}\n",
      "\n",
      "\tAccuracy: 0.84446\tPrecision: 0.48601\tRecall: 0.19100\tF1: 0.27423\tF2: 0.21739\n",
      "\tTotal predictions: 26000\tTrue positives:  764\tFalse positives:  808\tFalse negatives: 3236\tTrue negatives: 21192\n",
      "\n"
     ]
    }
   ],
   "source": [
    "%matplotlib inline\n",
    "features = ['poi', 'bonus', 'exercised_stock_options']\n",
    "classifiers = ['KNN']\n",
    "results[\"KNN\"] = classify_advanced(features, classifiers, print_result=True, draw_graph=True)"
   ]
  },
  {
   "cell_type": "markdown",
   "metadata": {},
   "source": [
    "Accuracy and precision are high but the recall is low due to high false negatives. Although KNN is not good at catching all of POIs but we can be confident that when the result shows POI than it is very likely that the person is POI."
   ]
  },
  {
   "cell_type": "markdown",
   "metadata": {},
   "source": [
    "### Bonus and Exercised Stock Options - Linear Regression"
   ]
  },
  {
   "cell_type": "code",
   "execution_count": 37,
   "metadata": {
    "collapsed": false
   },
   "outputs": [
    {
     "name": "stdout",
     "output_type": "stream",
     "text": [
      "Features list: ['bonus', 'exercised_stock_options']\n",
      "drawing\n"
     ]
    },
    {
     "data": {
      "image/png": "[encoded data removed]",
      "text/plain": [
       "<matplotlib.figure.Figure at 0x9b07780>"
      ]
     },
     "metadata": {},
     "output_type": "display_data"
    },
    {
     "name": "stdout",
     "output_type": "stream",
     "text": [
      "\n",
      "LinearRegression(copy_X=True, fit_intercept=True, n_jobs=1, normalize=False)\n",
      "\n",
      "\tBest parameters:\n",
      "\tNo GridSearch\n",
      "\n",
      "\tAccuracy: 0.83969\tPrecision: 0.22000\tRecall: 0.01650\tF1: 0.03070\tF2: 0.02025\n",
      "\tTotal predictions: 26000\tTrue positives:   66\tFalse positives:  234\tFalse negatives: 3934\tTrue negatives: 21766\n",
      "\n"
     ]
    }
   ],
   "source": [
    "%matplotlib inline\n",
    "features = ['poi', 'bonus', 'exercised_stock_options']\n",
    "classifiers = ['Regression']\n",
    "results[\"Regression\"] = classify_advanced(features, classifiers, print_result=True, draw_graph=True)"
   ]
  },
  {
   "cell_type": "markdown",
   "metadata": {},
   "source": [
    "Regression algorithm divides the area into two and assumes the left upper corner side to be POI and right bottom corner side to be non-POI. Since the algorithm gives a decimal values, I modified test_classifier function in tester_edited.py to convert decimal to 0 or 1. If the prediction is less than 0.5 then it is converted to 0. Otherwise, the prediction is converted to 1.\n",
    "\n",
    "Accuracy is very high. But precision and recall is pretty low due to low true positives."
   ]
  },
  {
   "cell_type": "markdown",
   "metadata": {},
   "source": [
    "### Bonus and Exercised Stock Options - Lasso Regression"
   ]
  },
  {
   "cell_type": "code",
   "execution_count": 38,
   "metadata": {
    "collapsed": false
   },
   "outputs": [
    {
     "name": "stdout",
     "output_type": "stream",
     "text": [
      "Features list: ['bonus', 'exercised_stock_options']\n",
      "drawing\n"
     ]
    },
    {
     "data": {
      "image/png": "[encoded data removed]",
      "text/plain": [
       "<matplotlib.figure.Figure at 0xd1242b0>"
      ]
     },
     "metadata": {},
     "output_type": "display_data"
    },
    {
     "name": "stdout",
     "output_type": "stream",
     "text": [
      "Got a divide by zero when trying out: GridSearchCV(cv=None, error_score='raise',\n",
      "       estimator=Lasso(alpha=1.0, copy_X=True, fit_intercept=True, max_iter=1000,\n",
      "   normalize=False, positive=False, precompute=False, random_state=None,\n",
      "   selection='cyclic', tol=0.0001, warm_start=False),\n",
      "       fit_params={}, iid=True, n_jobs=1,\n",
      "       param_grid={'selection': ['cyclic', 'random']},\n",
      "       pre_dispatch='2*n_jobs', refit=True, scoring=None, verbose=0)\n",
      "Precision or recall may be undefined due to a lack of true positive predicitons.\n",
      "\n"
     ]
    }
   ],
   "source": [
    "%matplotlib inline\n",
    "features = ['poi', 'bonus', 'exercised_stock_options']\n",
    "classifiers = ['Lasso']\n",
    "results[\"Lasso\"] = classify_advanced(features, classifiers, print_result=True, draw_graph=True)"
   ]
  },
  {
   "cell_type": "markdown",
   "metadata": {},
   "source": [
    "Error occurs due to too many zeros."
   ]
  },
  {
   "cell_type": "markdown",
   "metadata": {},
   "source": [
    "### Recap of Bonus and Exercised Stock Options"
   ]
  },
  {
   "cell_type": "markdown",
   "metadata": {},
   "source": [
    "We found that the classify_advanced function works nicely. Although there was an error when running SVM due to a lack of non-zero values, the overall results seem to be ok. Below is the summary of the results."
   ]
  },
  {
   "cell_type": "code",
   "execution_count": 39,
   "metadata": {
    "collapsed": false
   },
   "outputs": [
    {
     "data": {
      "text/plain": [
       "{'DecisionTree': [[0.8367692307692308, 0.4580467675378267, 0.333]],\n",
       " 'GaussianNB': [[0.19707692307692307, 0.12457732692649938, 0.7]],\n",
       " 'KNN': [[0.8444615384615385, 0.4860050890585242, 0.191]],\n",
       " 'Lasso': [None],\n",
       " 'Regression': [[0.8396923076923077, 0.22, 0.0165]],\n",
       " 'SVM': [None]}"
      ]
     },
     "execution_count": 39,
     "metadata": {},
     "output_type": "execute_result"
    }
   ],
   "source": [
    "### Results from analysis of Bonus and Exercised Stock Options\n",
    "results"
   ]
  },
  {
   "cell_type": "markdown",
   "metadata": {},
   "source": [
    "**KNN** has the best accuracy and precision and **Regression** has the lowest recall. **GaussianNB** has the highest recall. **DecisionTree** is the only algorithm where every score is above 0.3. "
   ]
  },
  {
   "cell_type": "markdown",
   "metadata": {},
   "source": [
    "### Bonus and Total Stock Value"
   ]
  },
  {
   "cell_type": "markdown",
   "metadata": {},
   "source": [
    "Similar to what I did before, I will plot the scatter plot for bonus and total_stock_value.\n",
    "\n",
    "Before plotting, I will first create a function for the scatter plot because the codes will be redundant."
   ]
  },
  {
   "cell_type": "code",
   "execution_count": 141,
   "metadata": {
    "collapsed": false
   },
   "outputs": [],
   "source": [
    "### Set the poi_ind\n",
    "poi_ind = features_list.index(\"poi\")\n",
    "\n",
    "%matplotlib inline\n",
    "### Set the size of the plot\n",
    "plt.rcParams[\"figure.figsize\"] = (6,6)\n",
    "\n",
    "### function for scatter plots\n",
    "def scatter_plotting(x,y):\n",
    "    ### Find index of x and y\n",
    "    x_ind = features_list.index(x)\n",
    "    y_ind = features_list.index(y)\n",
    "    \n",
    "    ### Create arrays for salary and bonus for poi and non-poi\n",
    "    x_poi    = [data[:,x_ind][ii] for ii in range(0, len(data[:,0])) if data[:,poi_ind][ii]]\n",
    "    y_poi    = [data[:,y_ind][ii] for ii in range(0, len(data[:,0])) if data[:,poi_ind][ii]]\n",
    "    x_nonpoi = [data[:,x_ind][ii] for ii in range(0, len(data[:,0])) if not data[:,poi_ind][ii]]\n",
    "    y_nonpoi = [data[:,y_ind][ii] for ii in range(0, len(data[:,0])) if not data[:,poi_ind][ii]]\n",
    "\n",
    "    ### Draw Salary histogram\n",
    "    plt.scatter(x_poi,   y_poi,   color=\"r\",label=\"poi\")\n",
    "    plt.scatter(x_nonpoi,y_nonpoi,color=\"b\",label=\"non-poi\")\n",
    "    plt.legend(loc='center left', bbox_to_anchor=(1, 0.5))\n",
    "    plt.xlabel(x)\n",
    "    plt.ylabel(y)\n",
    "    plt.title(\"{} and {}\".format(x, y))\n",
    "    plt.show()"
   ]
  },
  {
   "cell_type": "markdown",
   "metadata": {},
   "source": [
    "This function will create the scattor plot coloring poi as red and non-poi as blue."
   ]
  },
  {
   "cell_type": "code",
   "execution_count": 91,
   "metadata": {
    "collapsed": false
   },
   "outputs": [
    {
     "ename": "IndexError",
     "evalue": "index 18 is out of bounds for axis 1 with size 10",
     "output_type": "error",
     "traceback": [
      "\u001b[1;31m---------------------------------------------------------------------------\u001b[0m",
      "\u001b[1;31mIndexError\u001b[0m                                Traceback (most recent call last)",
      "\u001b[1;32m<ipython-input-91-710c23869b28>\u001b[0m in \u001b[0;36m<module>\u001b[1;34m()\u001b[0m\n\u001b[0;32m      1\u001b[0m \u001b[1;31m### Scatter plot between bonus and total_stock_value\u001b[0m\u001b[1;33m\u001b[0m\u001b[1;33m\u001b[0m\u001b[0m\n\u001b[1;32m----> 2\u001b[1;33m \u001b[0mscatter_plotting\u001b[0m\u001b[1;33m(\u001b[0m\u001b[1;34m\"bonus\"\u001b[0m\u001b[1;33m,\u001b[0m\u001b[1;34m\"total_stock_value\"\u001b[0m\u001b[1;33m)\u001b[0m\u001b[1;33m\u001b[0m\u001b[0m\n\u001b[0m",
      "\u001b[1;32m<ipython-input-90-72a84e482bea>\u001b[0m in \u001b[0;36mscatter_plotting\u001b[1;34m(x, y)\u001b[0m\n\u001b[0;32m     10\u001b[0m \u001b[1;33m\u001b[0m\u001b[0m\n\u001b[0;32m     11\u001b[0m     \u001b[1;31m### Create arrays for salary and bonus for poi and non-poi\u001b[0m\u001b[1;33m\u001b[0m\u001b[1;33m\u001b[0m\u001b[0m\n\u001b[1;32m---> 12\u001b[1;33m     \u001b[0mx_poi\u001b[0m    \u001b[1;33m=\u001b[0m \u001b[1;33m[\u001b[0m\u001b[0mdata\u001b[0m\u001b[1;33m[\u001b[0m\u001b[1;33m:\u001b[0m\u001b[1;33m,\u001b[0m\u001b[0mx_ind\u001b[0m\u001b[1;33m]\u001b[0m\u001b[1;33m[\u001b[0m\u001b[0mii\u001b[0m\u001b[1;33m]\u001b[0m \u001b[1;32mfor\u001b[0m \u001b[0mii\u001b[0m \u001b[1;32min\u001b[0m \u001b[0mrange\u001b[0m\u001b[1;33m(\u001b[0m\u001b[1;36m0\u001b[0m\u001b[1;33m,\u001b[0m \u001b[0mlen\u001b[0m\u001b[1;33m(\u001b[0m\u001b[0mdata\u001b[0m\u001b[1;33m[\u001b[0m\u001b[1;33m:\u001b[0m\u001b[1;33m,\u001b[0m\u001b[1;36m0\u001b[0m\u001b[1;33m]\u001b[0m\u001b[1;33m)\u001b[0m\u001b[1;33m)\u001b[0m \u001b[1;32mif\u001b[0m \u001b[0mdata\u001b[0m\u001b[1;33m[\u001b[0m\u001b[1;33m:\u001b[0m\u001b[1;33m,\u001b[0m\u001b[0mpoi_ind\u001b[0m\u001b[1;33m]\u001b[0m\u001b[1;33m[\u001b[0m\u001b[0mii\u001b[0m\u001b[1;33m]\u001b[0m\u001b[1;33m]\u001b[0m\u001b[1;33m\u001b[0m\u001b[0m\n\u001b[0m\u001b[0;32m     13\u001b[0m     \u001b[0my_poi\u001b[0m    \u001b[1;33m=\u001b[0m \u001b[1;33m[\u001b[0m\u001b[0mdata\u001b[0m\u001b[1;33m[\u001b[0m\u001b[1;33m:\u001b[0m\u001b[1;33m,\u001b[0m\u001b[0my_ind\u001b[0m\u001b[1;33m]\u001b[0m\u001b[1;33m[\u001b[0m\u001b[0mii\u001b[0m\u001b[1;33m]\u001b[0m \u001b[1;32mfor\u001b[0m \u001b[0mii\u001b[0m \u001b[1;32min\u001b[0m \u001b[0mrange\u001b[0m\u001b[1;33m(\u001b[0m\u001b[1;36m0\u001b[0m\u001b[1;33m,\u001b[0m \u001b[0mlen\u001b[0m\u001b[1;33m(\u001b[0m\u001b[0mdata\u001b[0m\u001b[1;33m[\u001b[0m\u001b[1;33m:\u001b[0m\u001b[1;33m,\u001b[0m\u001b[1;36m0\u001b[0m\u001b[1;33m]\u001b[0m\u001b[1;33m)\u001b[0m\u001b[1;33m)\u001b[0m \u001b[1;32mif\u001b[0m \u001b[0mdata\u001b[0m\u001b[1;33m[\u001b[0m\u001b[1;33m:\u001b[0m\u001b[1;33m,\u001b[0m\u001b[0mpoi_ind\u001b[0m\u001b[1;33m]\u001b[0m\u001b[1;33m[\u001b[0m\u001b[0mii\u001b[0m\u001b[1;33m]\u001b[0m\u001b[1;33m]\u001b[0m\u001b[1;33m\u001b[0m\u001b[0m\n\u001b[0;32m     14\u001b[0m     \u001b[0mx_nonpoi\u001b[0m \u001b[1;33m=\u001b[0m \u001b[1;33m[\u001b[0m\u001b[0mdata\u001b[0m\u001b[1;33m[\u001b[0m\u001b[1;33m:\u001b[0m\u001b[1;33m,\u001b[0m\u001b[0mx_ind\u001b[0m\u001b[1;33m]\u001b[0m\u001b[1;33m[\u001b[0m\u001b[0mii\u001b[0m\u001b[1;33m]\u001b[0m \u001b[1;32mfor\u001b[0m \u001b[0mii\u001b[0m \u001b[1;32min\u001b[0m \u001b[0mrange\u001b[0m\u001b[1;33m(\u001b[0m\u001b[1;36m0\u001b[0m\u001b[1;33m,\u001b[0m \u001b[0mlen\u001b[0m\u001b[1;33m(\u001b[0m\u001b[0mdata\u001b[0m\u001b[1;33m[\u001b[0m\u001b[1;33m:\u001b[0m\u001b[1;33m,\u001b[0m\u001b[1;36m0\u001b[0m\u001b[1;33m]\u001b[0m\u001b[1;33m)\u001b[0m\u001b[1;33m)\u001b[0m \u001b[1;32mif\u001b[0m \u001b[1;32mnot\u001b[0m \u001b[0mdata\u001b[0m\u001b[1;33m[\u001b[0m\u001b[1;33m:\u001b[0m\u001b[1;33m,\u001b[0m\u001b[0mpoi_ind\u001b[0m\u001b[1;33m]\u001b[0m\u001b[1;33m[\u001b[0m\u001b[0mii\u001b[0m\u001b[1;33m]\u001b[0m\u001b[1;33m]\u001b[0m\u001b[1;33m\u001b[0m\u001b[0m\n",
      "\u001b[1;31mIndexError\u001b[0m: index 18 is out of bounds for axis 1 with size 10"
     ]
    }
   ],
   "source": [
    "### Scatter plot between bonus and total_stock_value\n",
    "scatter_plotting(\"bonus\",\"total_stock_value\")"
   ]
  },
  {
   "cell_type": "markdown",
   "metadata": {},
   "source": [
    "The plot is similar to the scatter plot between bonus and exercised stock options. POIs are usually outside of the cluster at the left bottom corner. Due to its similarity, I expect that the scores from classifiers will be similar as well."
   ]
  },
  {
   "cell_type": "markdown",
   "metadata": {},
   "source": [
    "### Bonus and Total Stock Value - Classifiers"
   ]
  },
  {
   "cell_type": "markdown",
   "metadata": {},
   "source": [
    "I am going to calculate the scores between bonus and total_stock_value from various classifiers.\n",
    "\n",
    "I will set draw_graph to be False because I only care about scores. This will take a long time when you run because it is calculating scores using all of the classifiers."
   ]
  },
  {
   "cell_type": "code",
   "execution_count": 42,
   "metadata": {
    "collapsed": false
   },
   "outputs": [
    {
     "name": "stdout",
     "output_type": "stream",
     "text": [
      "Features list: ['bonus', 'total_stock_value']\n",
      "\n",
      "GridSearchCV(cv=None, error_score='raise',\n",
      "       estimator=DecisionTreeClassifier(class_weight=None, criterion='gini', max_depth=None,\n",
      "            max_features=None, max_leaf_nodes=None, min_samples_leaf=1,\n",
      "            min_samples_split=2, min_weight_fraction_leaf=0.0,\n",
      "            presort=False, random_state=None, splitter='best'),\n",
      "       fit_params={}, iid=True, n_jobs=1,\n",
      "       param_grid={'min_samples_split': [2, 3, 4, 5, 6, 7, 8, 9], 'splitter': ['best', 'random'], 'criterion': ['gini', 'entropy']},\n",
      "       pre_dispatch='2*n_jobs', refit=True, scoring=None, verbose=0)\n",
      "\n",
      "\tBest parameters:\n",
      "{'min_samples_split': 6, 'splitter': 'random', 'criterion': 'gini'}\n",
      "\n",
      "\tAccuracy: 0.81546\tPrecision: 0.35189\tRecall: 0.23700\tF1: 0.28324\tF2: 0.25356\n",
      "\tTotal predictions: 26000\tTrue positives:  948\tFalse positives: 1746\tFalse negatives: 3052\tTrue negatives: 20254\n",
      "\n",
      "\n",
      "GaussianNB()\n",
      "\n",
      "\tBest parameters:\n",
      "\tNo GridSearch\n",
      "\n",
      "\tAccuracy: 0.20054\tPrecision: 0.12767\tRecall: 0.71950\tF1: 0.21686\tF2: 0.37336\n",
      "\tTotal predictions: 26000\tTrue positives: 2878\tFalse positives: 19664\tFalse negatives: 1122\tTrue negatives: 2336\n",
      "\n",
      "Got a divide by zero when trying out: GridSearchCV(cv=None, error_score='raise',\n",
      "       estimator=SVC(C=1.0, cache_size=200, class_weight=None, coef0=0.0,\n",
      "  decision_function_shape=None, degree=3, gamma='auto', kernel='rbf',\n",
      "  max_iter=-1, probability=False, random_state=None, shrinking=True,\n",
      "  tol=0.001, verbose=False),\n",
      "       fit_params={}, iid=True, n_jobs=1,\n",
      "       param_grid={'kernel': ['rbf', 'linear', 'poly'], 'degree': [1, 2, 3, 4, 5], 'gamma': ['auto', 0.1, 0.3, 0.5, 0.7]},\n",
      "       pre_dispatch='2*n_jobs', refit=True, scoring=None, verbose=0)\n",
      "Precision or recall may be undefined due to a lack of true positive predicitons.\n",
      "\n",
      "\n",
      "GridSearchCV(cv=None, error_score='raise',\n",
      "       estimator=KNeighborsRegressor(algorithm='auto', leaf_size=30, metric='minkowski',\n",
      "          metric_params=None, n_jobs=1, n_neighbors=5, p=2,\n",
      "          weights='uniform'),\n",
      "       fit_params={}, iid=True, n_jobs=1,\n",
      "       param_grid={'n_neighbors': [1, 2, 3, 4, 5, 6, 7, 8, 9, 10], 'weights': ['uniform', 'distance'], 'algorithm': ['auto', 'ball_tree', 'kd_tree', 'brute']},\n",
      "       pre_dispatch='2*n_jobs', refit=True, scoring=None, verbose=0)\n",
      "\n",
      "\tBest parameters:\n",
      "{'n_neighbors': 8, 'weights': 'distance', 'algorithm': 'auto'}\n",
      "\n",
      "\tAccuracy: 0.83746\tPrecision: 0.36320\tRecall: 0.07500\tF1: 0.12433\tF2: 0.08915\n",
      "\tTotal predictions: 26000\tTrue positives:  300\tFalse positives:  526\tFalse negatives: 3700\tTrue negatives: 21474\n",
      "\n",
      "\n",
      "LinearRegression(copy_X=True, fit_intercept=True, n_jobs=1, normalize=False)\n",
      "\n",
      "\tBest parameters:\n",
      "\tNo GridSearch\n",
      "\n",
      "\tAccuracy: 0.83831\tPrecision: 0.16883\tRecall: 0.01300\tF1: 0.02414\tF2: 0.01594\n",
      "\tTotal predictions: 26000\tTrue positives:   52\tFalse positives:  256\tFalse negatives: 3948\tTrue negatives: 21744\n",
      "\n",
      "Got a divide by zero when trying out: GridSearchCV(cv=None, error_score='raise',\n",
      "       estimator=Lasso(alpha=1.0, copy_X=True, fit_intercept=True, max_iter=1000,\n",
      "   normalize=False, positive=False, precompute=False, random_state=None,\n",
      "   selection='cyclic', tol=0.0001, warm_start=False),\n",
      "       fit_params={}, iid=True, n_jobs=1,\n",
      "       param_grid={'selection': ['cyclic', 'random']},\n",
      "       pre_dispatch='2*n_jobs', refit=True, scoring=None, verbose=0)\n",
      "Precision or recall may be undefined due to a lack of true positive predicitons.\n",
      "\n"
     ]
    }
   ],
   "source": [
    "### Caclulating scores between bonus and total_stock_value\n",
    "features = ['poi', 'bonus', 'total_stock_value']\n",
    "classifiers = ['DecisionTree', 'GaussianNB', 'SVM', 'KNN', 'Regression', 'Lasso']\n",
    "results = classify_advanced(features, classifiers, print_result=True, draw_graph=False)"
   ]
  },
  {
   "cell_type": "code",
   "execution_count": 43,
   "metadata": {
    "collapsed": false
   },
   "outputs": [],
   "source": [
    "### Function for printing out results\n",
    "def print_out_result(results):\n",
    "    classifiers = ['DecisionTree', 'GaussianNB', 'SVM', 'KNN', 'Regression', 'Lasso']\n",
    "    print \"\\n           Accuracy   Precision     Recall\"\n",
    "    for i in range(len(results)):\n",
    "        \n",
    "        print classifiers[i]\n",
    "        if results[i] == None:\n",
    "            print \"           --------------None--------------\"\n",
    "        else:\n",
    "            print \"            {0:0.4f}      {1:0.4f}      {2:0.4f}\".format(results[i][0], results[i][1], results[i][2])"
   ]
  },
  {
   "cell_type": "code",
   "execution_count": 44,
   "metadata": {
    "collapsed": false
   },
   "outputs": [
    {
     "name": "stdout",
     "output_type": "stream",
     "text": [
      "\n",
      "           Accuracy   Precision     Recall\n",
      "DecisionTree\n",
      "            0.8155      0.3519      0.2370\n",
      "GaussianNB\n",
      "            0.2005      0.1277      0.7195\n",
      "SVM\n",
      "           --------------None--------------\n",
      "KNN\n",
      "            0.8375      0.3632      0.0750\n",
      "Regression\n",
      "            0.8383      0.1688      0.0130\n",
      "Lasso\n",
      "           --------------None--------------\n"
     ]
    }
   ],
   "source": [
    "print_out_result(results)"
   ]
  },
  {
   "cell_type": "markdown",
   "metadata": {},
   "source": [
    "The result is similar to what we saw before. SVM and Lasso provide None because they both need more non zero values for their calculations. \n",
    "\n",
    "Regression has the highest accuracy and lowest recall. KNN has the highest precision, GaussianNB has the highest recall and decisionTree has all the values above 0.3.\n",
    "\n",
    "I suspect their must be a correlationship between exercised_stock_options and total_stock_value because both of them show the similar results when they are paried with bonus."
   ]
  },
  {
   "cell_type": "markdown",
   "metadata": {},
   "source": [
    "### exercised_stock_options and total_stock_value"
   ]
  },
  {
   "cell_type": "markdown",
   "metadata": {},
   "source": [
    "First I will plot the scatter plot and see their relationship visually."
   ]
  },
  {
   "cell_type": "code",
   "execution_count": 45,
   "metadata": {
    "collapsed": false
   },
   "outputs": [
    {
     "data": {
      "image/png": "[encoded data removed]",
      "text/plain": [
       "<matplotlib.figure.Figure at 0xbf9d390>"
      ]
     },
     "metadata": {},
     "output_type": "display_data"
    }
   ],
   "source": [
    "### Scatter plot between bonus and total_stock_value\n",
    "scatter_plotting(\"exercised_stock_options\",\"total_stock_value\")"
   ]
  },
  {
   "cell_type": "markdown",
   "metadata": {},
   "source": [
    "As I expected there is a positive correlation between these two features.\n",
    "\n",
    "Next, I will calculate the accuracy, precision and recall."
   ]
  },
  {
   "cell_type": "code",
   "execution_count": 46,
   "metadata": {
    "collapsed": false,
    "scrolled": true
   },
   "outputs": [
    {
     "name": "stdout",
     "output_type": "stream",
     "text": [
      "Features list: ['exercised_stock_options', 'total_stock_value']\n",
      "\n",
      "GridSearchCV(cv=None, error_score='raise',\n",
      "       estimator=DecisionTreeClassifier(class_weight=None, criterion='gini', max_depth=None,\n",
      "            max_features=None, max_leaf_nodes=None, min_samples_leaf=1,\n",
      "            min_samples_split=2, min_weight_fraction_leaf=0.0,\n",
      "            presort=False, random_state=None, splitter='best'),\n",
      "       fit_params={}, iid=True, n_jobs=1,\n",
      "       param_grid={'min_samples_split': [2, 3, 4, 5, 6, 7, 8, 9], 'splitter': ['best', 'random'], 'criterion': ['gini', 'entropy']},\n",
      "       pre_dispatch='2*n_jobs', refit=True, scoring=None, verbose=0)\n",
      "\n",
      "\tBest parameters:\n",
      "{'min_samples_split': 6, 'splitter': 'random', 'criterion': 'entropy'}\n",
      "\n",
      "\tAccuracy: 0.82846\tPrecision: 0.37869\tRecall: 0.17950\tF1: 0.24355\tF2: 0.20060\n",
      "\tTotal predictions: 26000\tTrue positives:  718\tFalse positives: 1178\tFalse negatives: 3282\tTrue negatives: 20822\n",
      "\n",
      "\n",
      "GaussianNB()\n",
      "\n",
      "\tBest parameters:\n",
      "\tNo GridSearch\n",
      "\n",
      "\tAccuracy: 0.40638\tPrecision: 0.10837\tRecall: 0.39550\tF1: 0.17013\tF2: 0.25851\n",
      "\tTotal predictions: 26000\tTrue positives: 1582\tFalse positives: 13016\tFalse negatives: 2418\tTrue negatives: 8984\n",
      "\n",
      "Got a divide by zero when trying out: GridSearchCV(cv=None, error_score='raise',\n",
      "       estimator=SVC(C=1.0, cache_size=200, class_weight=None, coef0=0.0,\n",
      "  decision_function_shape=None, degree=3, gamma='auto', kernel='rbf',\n",
      "  max_iter=-1, probability=False, random_state=None, shrinking=True,\n",
      "  tol=0.001, verbose=False),\n",
      "       fit_params={}, iid=True, n_jobs=1,\n",
      "       param_grid={'kernel': ['rbf', 'linear', 'poly'], 'degree': [1, 2, 3, 4, 5], 'gamma': ['auto', 0.1, 0.3, 0.5, 0.7]},\n",
      "       pre_dispatch='2*n_jobs', refit=True, scoring=None, verbose=0)\n",
      "Precision or recall may be undefined due to a lack of true positive predicitons.\n",
      "\n",
      "\n",
      "GridSearchCV(cv=None, error_score='raise',\n",
      "       estimator=KNeighborsRegressor(algorithm='auto', leaf_size=30, metric='minkowski',\n",
      "          metric_params=None, n_jobs=1, n_neighbors=5, p=2,\n",
      "          weights='uniform'),\n",
      "       fit_params={}, iid=True, n_jobs=1,\n",
      "       param_grid={'n_neighbors': [1, 2, 3, 4, 5, 6, 7, 8, 9, 10], 'weights': ['uniform', 'distance'], 'algorithm': ['auto', 'ball_tree', 'kd_tree', 'brute']},\n",
      "       pre_dispatch='2*n_jobs', refit=True, scoring=None, verbose=0)\n",
      "\n",
      "\tBest parameters:\n",
      "{'n_neighbors': 10, 'weights': 'uniform', 'algorithm': 'brute'}\n",
      "\n",
      "\tAccuracy: 0.84285\tPrecision: 0.37572\tRecall: 0.03250\tF1: 0.05983\tF2: 0.03977\n",
      "\tTotal predictions: 26000\tTrue positives:  130\tFalse positives:  216\tFalse negatives: 3870\tTrue negatives: 21784\n",
      "\n",
      "\n",
      "LinearRegression(copy_X=True, fit_intercept=True, n_jobs=1, normalize=False)\n",
      "\n",
      "\tBest parameters:\n",
      "\tNo GridSearch\n",
      "\n",
      "\tAccuracy: 0.84108\tPrecision: 0.25373\tRecall: 0.01700\tF1: 0.03187\tF2: 0.02090\n",
      "\tTotal predictions: 26000\tTrue positives:   68\tFalse positives:  200\tFalse negatives: 3932\tTrue negatives: 21800\n",
      "\n",
      "Got a divide by zero when trying out: GridSearchCV(cv=None, error_score='raise',\n",
      "       estimator=Lasso(alpha=1.0, copy_X=True, fit_intercept=True, max_iter=1000,\n",
      "   normalize=False, positive=False, precompute=False, random_state=None,\n",
      "   selection='cyclic', tol=0.0001, warm_start=False),\n",
      "       fit_params={}, iid=True, n_jobs=1,\n",
      "       param_grid={'selection': ['cyclic', 'random']},\n",
      "       pre_dispatch='2*n_jobs', refit=True, scoring=None, verbose=0)\n",
      "Precision or recall may be undefined due to a lack of true positive predicitons.\n",
      "\n"
     ]
    }
   ],
   "source": [
    "### Caclulating scores between exercised_stock_options and total_stock_value\n",
    "features = ['poi', 'exercised_stock_options', 'total_stock_value']\n",
    "results = classify_advanced(features, classifiers, print_result=True, draw_graph=False)"
   ]
  },
  {
   "cell_type": "code",
   "execution_count": 47,
   "metadata": {
    "collapsed": false
   },
   "outputs": [
    {
     "name": "stdout",
     "output_type": "stream",
     "text": [
      "\n",
      "           Accuracy   Precision     Recall\n",
      "DecisionTree\n",
      "            0.8285      0.3787      0.1795\n",
      "GaussianNB\n",
      "            0.4064      0.1084      0.3955\n",
      "SVM\n",
      "           --------------None--------------\n",
      "KNN\n",
      "            0.8428      0.3757      0.0325\n",
      "Regression\n",
      "            0.8411      0.2537      0.0170\n",
      "Lasso\n",
      "           --------------None--------------\n"
     ]
    }
   ],
   "source": [
    "print_out_result(results)"
   ]
  },
  {
   "cell_type": "markdown",
   "metadata": {},
   "source": [
    "The results are not very good, which means that the pair of exercised_stock_option and total_stock_value doesn't prove very insightful information for identifying POIs.\n",
    "\n",
    "Since the scatter plot looks linear, I decided to find the correlation value between them."
   ]
  },
  {
   "cell_type": "markdown",
   "metadata": {},
   "source": [
    "### Calculating Correlation"
   ]
  },
  {
   "cell_type": "code",
   "execution_count": 48,
   "metadata": {
    "collapsed": false
   },
   "outputs": [
    {
     "data": {
      "text/plain": [
       "array([[ 1.        ,  0.96367812],\n",
       "       [ 0.96367812,  1.        ]])"
      ]
     },
     "execution_count": 48,
     "metadata": {},
     "output_type": "execute_result"
    }
   ],
   "source": [
    "### Getting arrays\n",
    "x_array = data[:, features_list.index('exercised_stock_options')]\n",
    "y_array = data[:, features_list.index('total_stock_value')]\n",
    "\n",
    "### Calculate Correlation\n",
    "np.corrcoef(x_array, y_array)"
   ]
  },
  {
   "cell_type": "markdown",
   "metadata": {},
   "source": [
    "The correlation between the two features is 0.9637 which is very close to 1. So they are very correlated.\n",
    "\n",
    "And I also expect that the regression score between these two features would be very good but I am not going to calculate the number because being correlated cannot be very helpful in terms of classification."
   ]
  },
  {
   "cell_type": "markdown",
   "metadata": {},
   "source": [
    "## More plots"
   ]
  },
  {
   "cell_type": "markdown",
   "metadata": {},
   "source": [
    "I will draw 5 by 3 subplots showing the scatter plots between either bonus, exercised_option_prices or total_stock_value and anything else in the features_list."
   ]
  },
  {
   "cell_type": "code",
   "execution_count": 49,
   "metadata": {
    "collapsed": false
   },
   "outputs": [
    {
     "data": {
      "image/png": "[encoded data removed]",
      "text/plain": [
       "<matplotlib.figure.Figure at 0xe1c1b38>"
      ]
     },
     "metadata": {},
     "output_type": "display_data"
    }
   ],
   "source": [
    "%matplotlib inline\n",
    "### 15 histograms for features\n",
    "plt.rcParams[\"figure.figsize\"] = (20,20)\n",
    "f, axarr = plt.subplots(5, 3)\n",
    "\n",
    "### the scatter plots of the data\n",
    "### x: x coordinate values, y: y coordinate values\n",
    "### r: row index, c: column index\n",
    "### title: title of a subplot\n",
    "def subplot_scatter_plot(x, y, r, c):\n",
    "    ### Find index of x and y\n",
    "    x_ind = features_list.index(x)\n",
    "    y_ind = features_list.index(y)\n",
    "    \n",
    "    ### Create arrays for salary and bonus for poi and non-poi\n",
    "    x_poi    = [data[:,x_ind][ii] for ii in range(0, len(data[:,0])) if data[:,poi_ind][ii]]\n",
    "    y_poi    = [data[:,y_ind][ii] for ii in range(0, len(data[:,0])) if data[:,poi_ind][ii]]\n",
    "    x_nonpoi = [data[:,x_ind][ii] for ii in range(0, len(data[:,0])) if not data[:,poi_ind][ii]]\n",
    "    y_nonpoi = [data[:,y_ind][ii] for ii in range(0, len(data[:,0])) if not data[:,poi_ind][ii]]\n",
    "\n",
    "    ### Draw Salary histogram\n",
    "    axarr[r,c].scatter(x_poi,   y_poi,   color=\"r\",label=\"poi\")\n",
    "    axarr[r,c].scatter(x_nonpoi,y_nonpoi,color=\"b\",label=\"non-poi\")\n",
    "    axarr[r,c].set_xlabel(x)\n",
    "    axarr[r,c].set_ylabel(y)\n",
    "    \n",
    "### Setting x coordinate values and y coordinate values\n",
    "x_values = [\"bonus\", \"exercised_stock_options\", \"total_stock_value\"]\n",
    "y_values = [\"salary\", \"restricted_stock\", \"expenses\", \"from_poi_to_this_person\", \"long_term_incentive\"]\n",
    "\n",
    "r = 0\n",
    "c = 0\n",
    "for y in y_values:\n",
    "    for x in x_values: \n",
    "        subplot_scatter_plot(x,y,r,c)\n",
    "        c = (c+1) % 3\n",
    "    r += 1\n",
    "\n",
    "plt.show()"
   ]
  },
  {
   "cell_type": "markdown",
   "metadata": {},
   "source": [
    "Red dots are POIs and blue dots are non-POIs. I am not interested in identifying 4 POIs outside of the cluster at the left bottom corner because that can be identified very easily when I set a boundary between the cluster and outliners. What I am interested in is identifying POIs within the cluster. So I need to look for the scatter plot where red dots are close together within the cluster. A good example is a scatter plot between bonus and expense. POIs are close together and the cluster is more dispersed than other scatter plots. Another good example is scatter plot between bonus and long_term_incentive. 6 red dots are very close within the cluster."
   ]
  },
  {
   "cell_type": "markdown",
   "metadata": {},
   "source": [
    "### Creating a new feature"
   ]
  },
  {
   "cell_type": "markdown",
   "metadata": {},
   "source": [
    "Based on the above plots, the blue dots have greater slopes than the red dots in the scatter plot of **exercised_stock_options** and **expenses**. I decided to create a new feature by dividing **expenses** from **exercised_stock_options** weighted by the sum of the squares of these features to the power of 0.2. I used the power of 0.2 to get a better distribution."
   ]
  },
  {
   "cell_type": "code",
   "execution_count": 203,
   "metadata": {
    "collapsed": false
   },
   "outputs": [
    {
     "name": "stdout",
     "output_type": "stream",
     "text": [
      "Before append: (139L, 10L)\n",
      "Max: 4.05931567138e+17\n",
      "Min: 0.0\n",
      "After append: (139L, 10L)\n"
     ]
    }
   ],
   "source": [
    "### Creating a new feature - eso_expenses\n",
    "tmp_array = np.empty([len(data[:,0]),1])\n",
    "for i in range(len(data[:,0])):\n",
    "    ex = data[i,features_list.index(\"expenses\")]\n",
    "    eso = data[i,features_list.index(\"exercised_stock_options\")]\n",
    "    \n",
    "    ### If both values are zero then set it 0\n",
    "    if ex * eso == 0:\n",
    "        tmp_array[i,0] = 0\n",
    "    else:\n",
    "        tmp_array[i,0] = eso / ex * (ex*ex + eso*eso)\n",
    "        \n",
    "### Print out the original size of data\n",
    "print \"Before append:\", data.shape\n",
    "\n",
    "### Find max and min of the new feature\n",
    "new_feature_max = np.max(tmp_array)\n",
    "new_feature_min = np.min(tmp_array)\n",
    "\n",
    "print \"Max:\", new_feature_max\n",
    "print \"Min:\", new_feature_min\n",
    "\n",
    "\n",
    "### Append the new feature column to data numpy array\n",
    "if len(data[0,:]) == 10:\n",
    "    ### To prevent appending a column again when rerunning the code\n",
    "    for i in range(len(tmp_array)):\n",
    "#         if np.log(tmp_array[i]) < 0:\n",
    "#             data[i,-1] = 0\n",
    "#         else:\n",
    "        data[i,-1] = np.power((tmp_array[i]-new_feature_min) / (new_feature_max - new_feature_min), .2)\n",
    "else:\n",
    "    data = np.append(data, tmp_array, axis= 1)\n",
    "\n",
    "### Print out the size of appended data\n",
    "print \"After append:\", data.shape\n",
    "\n",
    "### Add new feature to features_list\n",
    "if features_list[-1] != \"eso_expenses\":\n",
    "    features_list.append(\"eso_expenses\")"
   ]
  },
  {
   "cell_type": "markdown",
   "metadata": {},
   "source": [
    "The code above appends the new feature to the existing data numpy array. In the code I set the new feature's value equal to 0 when the denominator is zero or the numerator is zero to avoid having *inf* values.\n",
    "\n",
    "Then I scaled the new feature to 0 to 1."
   ]
  },
  {
   "cell_type": "markdown",
   "metadata": {},
   "source": [
    "### Plotting a new feature"
   ]
  },
  {
   "cell_type": "code",
   "execution_count": 205,
   "metadata": {
    "collapsed": false
   },
   "outputs": [
    {
     "data": {
      "image/png": "[encoded data removed]",
      "text/plain": [
       "<matplotlib.figure.Figure at 0xb4d6f98>"
      ]
     },
     "metadata": {},
     "output_type": "display_data"
    },
    {
     "data": {
      "image/png": "[encoded data removed]",
      "text/plain": [
       "<matplotlib.figure.Figure at 0xb5bb438>"
      ]
     },
     "metadata": {},
     "output_type": "display_data"
    }
   ],
   "source": [
    "### Draw eso_expenses histogram\n",
    "plt.hist(data[:,features_list.index(\"eso_expenses\")], bins=100)\n",
    "plt.xlabel(\"eso_expenses\")\n",
    "plt.ylabel(\"count\")\n",
    "plt.title(\"eso_expenses Histogram\")\n",
    "plt.show()\n",
    "\n",
    "### Scatter plot between bonus and total_stock_value\n",
    "scatter_plotting(\"eso_expenses\",\"eso_expenses\")"
   ]
  },
  {
   "cell_type": "markdown",
   "metadata": {},
   "source": [
    "The histogram shows that the majority of values of the new features are zeros. The second scatter plot is showing the distribution of the new feature colored by poi and non-poi."
   ]
  },
  {
   "cell_type": "markdown",
   "metadata": {},
   "source": [
    "### Calculating the scores"
   ]
  },
  {
   "cell_type": "markdown",
   "metadata": {},
   "source": [
    "I am going to calculate the scores of each pair of features that is being plotted above.\n",
    "\n",
    "After I am done calculating all of them, I will choose the pairs of features showing the best scores.\n",
    "\n",
    "**Note:**\n",
    "\n",
    "Initially I tried to calculate the scores of 15 paris using 6 classifiers, but it takes a tremendously huge amount of time and it never ends. So I decided to calculate them using only 2 classifiers: DecisionTree and GaussianNB. Although the other classifiers such as KNN shows the higher accuracy than these two, I chose these two because they show well-rounded results while KNN and others showed recall less than 10%."
   ]
  },
  {
   "cell_type": "code",
   "execution_count": 50,
   "metadata": {
    "collapsed": false
   },
   "outputs": [
    {
     "name": "stdout",
     "output_type": "stream",
     "text": [
      "Features list: ['bonus', 'salary']\n",
      "\n",
      "GridSearchCV(cv=None, error_score='raise',\n",
      "       estimator=DecisionTreeClassifier(class_weight=None, criterion='gini', max_depth=None,\n",
      "            max_features=None, max_leaf_nodes=None, min_samples_leaf=1,\n",
      "            min_samples_split=2, min_weight_fraction_leaf=0.0,\n",
      "            presort=False, random_state=None, splitter='best'),\n",
      "       fit_params={}, iid=True, n_jobs=1,\n",
      "       param_grid={'min_samples_split': [2, 3, 4, 5, 6, 7, 8, 9], 'splitter': ['best', 'random'], 'criterion': ['gini', 'entropy']},\n",
      "       pre_dispatch='2*n_jobs', refit=True, scoring=None, verbose=0)\n",
      "\n",
      "\tBest parameters:\n",
      "{'min_samples_split': 9, 'splitter': 'random', 'criterion': 'entropy'}\n",
      "\n",
      "\tAccuracy: 0.75330\tPrecision: 0.29643\tRecall: 0.17000\tF1: 0.21608\tF2: 0.18585\n",
      "\tTotal predictions: 20000\tTrue positives:  680\tFalse positives: 1614\tFalse negatives: 3320\tTrue negatives: 14386\n",
      "\n",
      "\n",
      "GaussianNB()\n",
      "\n",
      "\tBest parameters:\n",
      "\tNo GridSearch\n",
      "\n",
      "\tAccuracy: 0.24690\tPrecision: 0.18238\tRecall: 0.79400\tF1: 0.29663\tF2: 0.47525\n",
      "\tTotal predictions: 20000\tTrue positives: 3176\tFalse positives: 14238\tFalse negatives:  824\tTrue negatives: 1762\n",
      "\n",
      "Features list: ['exercised_stock_options', 'salary']\n",
      "\n",
      "GridSearchCV(cv=None, error_score='raise',\n",
      "       estimator=DecisionTreeClassifier(class_weight=None, criterion='gini', max_depth=None,\n",
      "            max_features=None, max_leaf_nodes=None, min_samples_leaf=1,\n",
      "            min_samples_split=2, min_weight_fraction_leaf=0.0,\n",
      "            presort=False, random_state=None, splitter='best'),\n",
      "       fit_params={}, iid=True, n_jobs=1,\n",
      "       param_grid={'min_samples_split': [2, 3, 4, 5, 6, 7, 8, 9], 'splitter': ['best', 'random'], 'criterion': ['gini', 'entropy']},\n",
      "       pre_dispatch='2*n_jobs', refit=True, scoring=None, verbose=0)\n",
      "\n",
      "\tBest parameters:\n",
      "{'min_samples_split': 9, 'splitter': 'random', 'criterion': 'gini'}\n",
      "\n",
      "\tAccuracy: 0.82754\tPrecision: 0.36526\tRecall: 0.16400\tF1: 0.22636\tF2: 0.18431\n",
      "\tTotal predictions: 26000\tTrue positives:  656\tFalse positives: 1140\tFalse negatives: 3344\tTrue negatives: 20860\n",
      "\n",
      "\n",
      "GaussianNB()\n",
      "\n",
      "\tBest parameters:\n",
      "\tNo GridSearch\n",
      "\n",
      "\tAccuracy: 0.19977\tPrecision: 0.13506\tRecall: 0.77750\tF1: 0.23015\tF2: 0.39845\n",
      "\tTotal predictions: 26000\tTrue positives: 3110\tFalse positives: 19916\tFalse negatives:  890\tTrue negatives: 2084\n",
      "\n",
      "Features list: ['total_stock_value', 'salary']\n",
      "\n",
      "GridSearchCV(cv=None, error_score='raise',\n",
      "       estimator=DecisionTreeClassifier(class_weight=None, criterion='gini', max_depth=None,\n",
      "            max_features=None, max_leaf_nodes=None, min_samples_leaf=1,\n",
      "            min_samples_split=2, min_weight_fraction_leaf=0.0,\n",
      "            presort=False, random_state=None, splitter='best'),\n",
      "       fit_params={}, iid=True, n_jobs=1,\n",
      "       param_grid={'min_samples_split': [2, 3, 4, 5, 6, 7, 8, 9], 'splitter': ['best', 'random'], 'criterion': ['gini', 'entropy']},\n",
      "       pre_dispatch='2*n_jobs', refit=True, scoring=None, verbose=0)\n",
      "\n",
      "\tBest parameters:\n",
      "{'min_samples_split': 7, 'splitter': 'random', 'criterion': 'entropy'}\n",
      "\n",
      "\tAccuracy: 0.81831\tPrecision: 0.28297\tRecall: 0.11800\tF1: 0.16655\tF2: 0.13357\n",
      "\tTotal predictions: 26000\tTrue positives:  472\tFalse positives: 1196\tFalse negatives: 3528\tTrue negatives: 20804\n",
      "\n",
      "\n",
      "GaussianNB()\n",
      "\n",
      "\tBest parameters:\n",
      "\tNo GridSearch\n",
      "\n",
      "\tAccuracy: 0.19377\tPrecision: 0.13485\tRecall: 0.78300\tF1: 0.23007\tF2: 0.39923\n",
      "\tTotal predictions: 26000\tTrue positives: 3132\tFalse positives: 20094\tFalse negatives:  868\tTrue negatives: 1906\n",
      "\n",
      "Features list: ['bonus', 'restricted_stock']\n",
      "\n",
      "GridSearchCV(cv=None, error_score='raise',\n",
      "       estimator=DecisionTreeClassifier(class_weight=None, criterion='gini', max_depth=None,\n",
      "            max_features=None, max_leaf_nodes=None, min_samples_leaf=1,\n",
      "            min_samples_split=2, min_weight_fraction_leaf=0.0,\n",
      "            presort=False, random_state=None, splitter='best'),\n",
      "       fit_params={}, iid=True, n_jobs=1,\n",
      "       param_grid={'min_samples_split': [2, 3, 4, 5, 6, 7, 8, 9], 'splitter': ['best', 'random'], 'criterion': ['gini', 'entropy']},\n",
      "       pre_dispatch='2*n_jobs', refit=True, scoring=None, verbose=0)\n",
      "\n",
      "\tBest parameters:\n",
      "{'min_samples_split': 9, 'splitter': 'random', 'criterion': 'gini'}\n",
      "\n",
      "\tAccuracy: 0.78942\tPrecision: 0.28133\tRecall: 0.16950\tF1: 0.21154\tF2: 0.18414\n",
      "\tTotal predictions: 24000\tTrue positives:  678\tFalse positives: 1732\tFalse negatives: 3322\tTrue negatives: 18268\n",
      "\n",
      "\n",
      "GaussianNB()\n",
      "\n",
      "\tBest parameters:\n",
      "\tNo GridSearch\n",
      "\n",
      "\tAccuracy: 0.22617\tPrecision: 0.14555\tRecall: 0.74800\tF1: 0.24369\tF2: 0.40924\n",
      "\tTotal predictions: 24000\tTrue positives: 2992\tFalse positives: 17564\tFalse negatives: 1008\tTrue negatives: 2436\n",
      "\n",
      "Features list: ['exercised_stock_options', 'restricted_stock']\n",
      "\n",
      "GridSearchCV(cv=None, error_score='raise',\n",
      "       estimator=DecisionTreeClassifier(class_weight=None, criterion='gini', max_depth=None,\n",
      "            max_features=None, max_leaf_nodes=None, min_samples_leaf=1,\n",
      "            min_samples_split=2, min_weight_fraction_leaf=0.0,\n",
      "            presort=False, random_state=None, splitter='best'),\n",
      "       fit_params={}, iid=True, n_jobs=1,\n",
      "       param_grid={'min_samples_split': [2, 3, 4, 5, 6, 7, 8, 9], 'splitter': ['best', 'random'], 'criterion': ['gini', 'entropy']},\n",
      "       pre_dispatch='2*n_jobs', refit=True, scoring=None, verbose=0)\n",
      "\n",
      "\tBest parameters:\n",
      "{'min_samples_split': 7, 'splitter': 'random', 'criterion': 'gini'}\n",
      "\n",
      "\tAccuracy: 0.82738\tPrecision: 0.35912\tRecall: 0.15550\tF1: 0.21703\tF2: 0.17539\n",
      "\tTotal predictions: 26000\tTrue positives:  622\tFalse positives: 1110\tFalse negatives: 3378\tTrue negatives: 20890\n",
      "\n",
      "\n",
      "GaussianNB()\n",
      "\n",
      "\tBest parameters:\n",
      "\tNo GridSearch\n",
      "\n",
      "\tAccuracy: 0.20446\tPrecision: 0.13082\tRecall: 0.73900\tF1: 0.22229\tF2: 0.38294\n",
      "\tTotal predictions: 26000\tTrue positives: 2956\tFalse positives: 19640\tFalse negatives: 1044\tTrue negatives: 2360\n",
      "\n",
      "Features list: ['total_stock_value', 'restricted_stock']\n",
      "\n",
      "GridSearchCV(cv=None, error_score='raise',\n",
      "       estimator=DecisionTreeClassifier(class_weight=None, criterion='gini', max_depth=None,\n",
      "            max_features=None, max_leaf_nodes=None, min_samples_leaf=1,\n",
      "            min_samples_split=2, min_weight_fraction_leaf=0.0,\n",
      "            presort=False, random_state=None, splitter='best'),\n",
      "       fit_params={}, iid=True, n_jobs=1,\n",
      "       param_grid={'min_samples_split': [2, 3, 4, 5, 6, 7, 8, 9], 'splitter': ['best', 'random'], 'criterion': ['gini', 'entropy']},\n",
      "       pre_dispatch='2*n_jobs', refit=True, scoring=None, verbose=0)\n",
      "\n",
      "\tBest parameters:\n",
      "{'min_samples_split': 9, 'splitter': 'random', 'criterion': 'gini'}\n",
      "\n",
      "\tAccuracy: 0.82023\tPrecision: 0.30917\tRecall: 0.13650\tF1: 0.18939\tF2: 0.15366\n",
      "\tTotal predictions: 26000\tTrue positives:  546\tFalse positives: 1220\tFalse negatives: 3454\tTrue negatives: 20780\n",
      "\n",
      "\n",
      "GaussianNB()\n",
      "\n",
      "\tBest parameters:\n",
      "\tNo GridSearch\n",
      "\n",
      "\tAccuracy: 0.21123\tPrecision: 0.13696\tRecall: 0.77850\tF1: 0.23294\tF2: 0.40195\n",
      "\tTotal predictions: 26000\tTrue positives: 3114\tFalse positives: 19622\tFalse negatives:  886\tTrue negatives: 2378\n",
      "\n",
      "Features list: ['bonus', 'expenses']\n",
      "\n",
      "GridSearchCV(cv=None, error_score='raise',\n",
      "       estimator=DecisionTreeClassifier(class_weight=None, criterion='gini', max_depth=None,\n",
      "            max_features=None, max_leaf_nodes=None, min_samples_leaf=1,\n",
      "            min_samples_split=2, min_weight_fraction_leaf=0.0,\n",
      "            presort=False, random_state=None, splitter='best'),\n",
      "       fit_params={}, iid=True, n_jobs=1,\n",
      "       param_grid={'min_samples_split': [2, 3, 4, 5, 6, 7, 8, 9], 'splitter': ['best', 'random'], 'criterion': ['gini', 'entropy']},\n",
      "       pre_dispatch='2*n_jobs', refit=True, scoring=None, verbose=0)\n",
      "\n",
      "\tBest parameters:\n",
      "{'min_samples_split': 8, 'splitter': 'random', 'criterion': 'gini'}\n",
      "\n",
      "\tAccuracy: 0.79645\tPrecision: 0.40940\tRecall: 0.27000\tF1: 0.32540\tF2: 0.28973\n",
      "\tTotal predictions: 22000\tTrue positives: 1080\tFalse positives: 1558\tFalse negatives: 2920\tTrue negatives: 16442\n",
      "\n",
      "\n",
      "GaussianNB()\n",
      "\n",
      "\tBest parameters:\n",
      "\tNo GridSearch\n",
      "\n",
      "\tAccuracy: 0.26764\tPrecision: 0.18059\tRecall: 0.85600\tF1: 0.29826\tF2: 0.48970\n",
      "\tTotal predictions: 22000\tTrue positives: 3424\tFalse positives: 15536\tFalse negatives:  576\tTrue negatives: 2464\n",
      "\n",
      "Features list: ['exercised_stock_options', 'expenses']\n",
      "\n",
      "GridSearchCV(cv=None, error_score='raise',\n",
      "       estimator=DecisionTreeClassifier(class_weight=None, criterion='gini', max_depth=None,\n",
      "            max_features=None, max_leaf_nodes=None, min_samples_leaf=1,\n",
      "            min_samples_split=2, min_weight_fraction_leaf=0.0,\n",
      "            presort=False, random_state=None, splitter='best'),\n",
      "       fit_params={}, iid=True, n_jobs=1,\n",
      "       param_grid={'min_samples_split': [2, 3, 4, 5, 6, 7, 8, 9], 'splitter': ['best', 'random'], 'criterion': ['gini', 'entropy']},\n",
      "       pre_dispatch='2*n_jobs', refit=True, scoring=None, verbose=0)\n",
      "\n",
      "\tBest parameters:\n",
      "{'min_samples_split': 7, 'splitter': 'random', 'criterion': 'gini'}\n",
      "\n",
      "\tAccuracy: 0.82792\tPrecision: 0.36610\tRecall: 0.16200\tF1: 0.22461\tF2: 0.18233\n",
      "\tTotal predictions: 26000\tTrue positives:  648\tFalse positives: 1122\tFalse negatives: 3352\tTrue negatives: 20878\n",
      "\n",
      "\n",
      "GaussianNB()\n",
      "\n",
      "\tBest parameters:\n",
      "\tNo GridSearch\n",
      "\n",
      "\tAccuracy: 0.20923\tPrecision: 0.13102\tRecall: 0.73500\tF1: 0.22239\tF2: 0.38241\n",
      "\tTotal predictions: 26000\tTrue positives: 2940\tFalse positives: 19500\tFalse negatives: 1060\tTrue negatives: 2500\n",
      "\n",
      "Features list: ['total_stock_value', 'expenses']\n",
      "\n",
      "GridSearchCV(cv=None, error_score='raise',\n",
      "       estimator=DecisionTreeClassifier(class_weight=None, criterion='gini', max_depth=None,\n",
      "            max_features=None, max_leaf_nodes=None, min_samples_leaf=1,\n",
      "            min_samples_split=2, min_weight_fraction_leaf=0.0,\n",
      "            presort=False, random_state=None, splitter='best'),\n",
      "       fit_params={}, iid=True, n_jobs=1,\n",
      "       param_grid={'min_samples_split': [2, 3, 4, 5, 6, 7, 8, 9], 'splitter': ['best', 'random'], 'criterion': ['gini', 'entropy']},\n",
      "       pre_dispatch='2*n_jobs', refit=True, scoring=None, verbose=0)\n",
      "\n",
      "\tBest parameters:\n",
      "{'min_samples_split': 9, 'splitter': 'random', 'criterion': 'entropy'}\n",
      "\n",
      "\tAccuracy: 0.83193\tPrecision: 0.33642\tRecall: 0.18150\tF1: 0.23579\tF2: 0.19991\n",
      "\tTotal predictions: 28000\tTrue positives:  726\tFalse positives: 1432\tFalse negatives: 3274\tTrue negatives: 22568\n",
      "\n",
      "\n",
      "GaussianNB()\n",
      "\n",
      "\tBest parameters:\n",
      "\tNo GridSearch\n",
      "\n",
      "\tAccuracy: 0.22157\tPrecision: 0.12807\tRecall: 0.76600\tF1: 0.21945\tF2: 0.38373\n",
      "\tTotal predictions: 28000\tTrue positives: 3064\tFalse positives: 20860\tFalse negatives:  936\tTrue negatives: 3140\n",
      "\n",
      "Features list: ['bonus', 'from_poi_to_this_person']\n",
      "\n",
      "GridSearchCV(cv=None, error_score='raise',\n",
      "       estimator=DecisionTreeClassifier(class_weight=None, criterion='gini', max_depth=None,\n",
      "            max_features=None, max_leaf_nodes=None, min_samples_leaf=1,\n",
      "            min_samples_split=2, min_weight_fraction_leaf=0.0,\n",
      "            presort=False, random_state=None, splitter='best'),\n",
      "       fit_params={}, iid=True, n_jobs=1,\n",
      "       param_grid={'min_samples_split': [2, 3, 4, 5, 6, 7, 8, 9], 'splitter': ['best', 'random'], 'criterion': ['gini', 'entropy']},\n",
      "       pre_dispatch='2*n_jobs', refit=True, scoring=None, verbose=0)\n",
      "\n",
      "\tBest parameters:\n",
      "{'min_samples_split': 6, 'splitter': 'random', 'criterion': 'entropy'}\n",
      "\n",
      "\tAccuracy: 0.76360\tPrecision: 0.31429\tRecall: 0.15400\tF1: 0.20671\tF2: 0.17149\n",
      "\tTotal predictions: 20000\tTrue positives:  616\tFalse positives: 1344\tFalse negatives: 3384\tTrue negatives: 14656\n",
      "\n",
      "\n",
      "GaussianNB()\n",
      "\n",
      "\tBest parameters:\n",
      "\tNo GridSearch\n",
      "\n",
      "\tAccuracy: 0.66010\tPrecision: 0.17051\tRecall: 0.18100\tF1: 0.17560\tF2: 0.17880\n",
      "\tTotal predictions: 20000\tTrue positives:  724\tFalse positives: 3522\tFalse negatives: 3276\tTrue negatives: 12478\n",
      "\n",
      "Features list: ['exercised_stock_options', 'from_poi_to_this_person']\n",
      "\n",
      "GridSearchCV(cv=None, error_score='raise',\n",
      "       estimator=DecisionTreeClassifier(class_weight=None, criterion='gini', max_depth=None,\n",
      "            max_features=None, max_leaf_nodes=None, min_samples_leaf=1,\n",
      "            min_samples_split=2, min_weight_fraction_leaf=0.0,\n",
      "            presort=False, random_state=None, splitter='best'),\n",
      "       fit_params={}, iid=True, n_jobs=1,\n",
      "       param_grid={'min_samples_split': [2, 3, 4, 5, 6, 7, 8, 9], 'splitter': ['best', 'random'], 'criterion': ['gini', 'entropy']},\n",
      "       pre_dispatch='2*n_jobs', refit=True, scoring=None, verbose=0)\n",
      "\n",
      "\tBest parameters:\n",
      "{'min_samples_split': 5, 'splitter': 'random', 'criterion': 'gini'}\n",
      "\n",
      "\tAccuracy: 0.81058\tPrecision: 0.33769\tRecall: 0.14200\tF1: 0.19993\tF2: 0.16062\n",
      "\tTotal predictions: 24000\tTrue positives:  568\tFalse positives: 1114\tFalse negatives: 3432\tTrue negatives: 18886\n",
      "\n",
      "\n",
      "GaussianNB()\n",
      "\n",
      "\tBest parameters:\n",
      "\tNo GridSearch\n",
      "\n",
      "\tAccuracy: 0.78617\tPrecision: 0.13718\tRecall: 0.05350\tF1: 0.07698\tF2: 0.06093\n",
      "\tTotal predictions: 24000\tTrue positives:  214\tFalse positives: 1346\tFalse negatives: 3786\tTrue negatives: 18654\n",
      "\n",
      "Features list: ['total_stock_value', 'from_poi_to_this_person']\n",
      "\n",
      "GridSearchCV(cv=None, error_score='raise',\n",
      "       estimator=DecisionTreeClassifier(class_weight=None, criterion='gini', max_depth=None,\n",
      "            max_features=None, max_leaf_nodes=None, min_samples_leaf=1,\n",
      "            min_samples_split=2, min_weight_fraction_leaf=0.0,\n",
      "            presort=False, random_state=None, splitter='best'),\n",
      "       fit_params={}, iid=True, n_jobs=1,\n",
      "       param_grid={'min_samples_split': [2, 3, 4, 5, 6, 7, 8, 9], 'splitter': ['best', 'random'], 'criterion': ['gini', 'entropy']},\n",
      "       pre_dispatch='2*n_jobs', refit=True, scoring=None, verbose=0)\n",
      "\n",
      "\tBest parameters:\n",
      "{'min_samples_split': 9, 'splitter': 'random', 'criterion': 'gini'}\n",
      "\n",
      "\tAccuracy: 0.81823\tPrecision: 0.29257\tRecall: 0.12800\tF1: 0.17809\tF2: 0.14423\n",
      "\tTotal predictions: 26000\tTrue positives:  512\tFalse positives: 1238\tFalse negatives: 3488\tTrue negatives: 20762\n",
      "\n",
      "\n",
      "GaussianNB()\n",
      "\n",
      "\tBest parameters:\n",
      "\tNo GridSearch\n",
      "\n",
      "\tAccuracy: 0.79546\tPrecision: 0.11731\tRecall: 0.05050\tF1: 0.07060\tF2: 0.05699\n",
      "\tTotal predictions: 26000\tTrue positives:  202\tFalse positives: 1520\tFalse negatives: 3798\tTrue negatives: 20480\n",
      "\n",
      "Features list: ['bonus', 'long_term_incentive']\n",
      "\n",
      "GridSearchCV(cv=None, error_score='raise',\n",
      "       estimator=DecisionTreeClassifier(class_weight=None, criterion='gini', max_depth=None,\n",
      "            max_features=None, max_leaf_nodes=None, min_samples_leaf=1,\n",
      "            min_samples_split=2, min_weight_fraction_leaf=0.0,\n",
      "            presort=False, random_state=None, splitter='best'),\n",
      "       fit_params={}, iid=True, n_jobs=1,\n",
      "       param_grid={'min_samples_split': [2, 3, 4, 5, 6, 7, 8, 9], 'splitter': ['best', 'random'], 'criterion': ['gini', 'entropy']},\n",
      "       pre_dispatch='2*n_jobs', refit=True, scoring=None, verbose=0)\n",
      "\n",
      "\tBest parameters:\n",
      "{'min_samples_split': 7, 'splitter': 'random', 'criterion': 'gini'}\n",
      "\n",
      "\tAccuracy: 0.73367\tPrecision: 0.30249\tRecall: 0.15200\tF1: 0.20233\tF2: 0.16880\n",
      "\tTotal predictions: 18000\tTrue positives:  608\tFalse positives: 1402\tFalse negatives: 3392\tTrue negatives: 12598\n",
      "\n",
      "\n",
      "GaussianNB()\n",
      "\n",
      "\tBest parameters:\n",
      "\tNo GridSearch\n",
      "\n",
      "\tAccuracy: 0.25689\tPrecision: 0.20246\tRecall: 0.79750\tF1: 0.32294\tF2: 0.50227\n",
      "\tTotal predictions: 18000\tTrue positives: 3190\tFalse positives: 12566\tFalse negatives:  810\tTrue negatives: 1434\n",
      "\n",
      "Features list: ['exercised_stock_options', 'long_term_incentive']\n",
      "\n",
      "GridSearchCV(cv=None, error_score='raise',\n",
      "       estimator=DecisionTreeClassifier(class_weight=None, criterion='gini', max_depth=None,\n",
      "            max_features=None, max_leaf_nodes=None, min_samples_leaf=1,\n",
      "            min_samples_split=2, min_weight_fraction_leaf=0.0,\n",
      "            presort=False, random_state=None, splitter='best'),\n",
      "       fit_params={}, iid=True, n_jobs=1,\n",
      "       param_grid={'min_samples_split': [2, 3, 4, 5, 6, 7, 8, 9], 'splitter': ['best', 'random'], 'criterion': ['gini', 'entropy']},\n",
      "       pre_dispatch='2*n_jobs', refit=True, scoring=None, verbose=0)\n",
      "\n",
      "\tBest parameters:\n",
      "{'min_samples_split': 9, 'splitter': 'random', 'criterion': 'gini'}\n",
      "\n",
      "\tAccuracy: 0.81633\tPrecision: 0.39528\tRecall: 0.19250\tF1: 0.25891\tF2: 0.21451\n",
      "\tTotal predictions: 24000\tTrue positives:  770\tFalse positives: 1178\tFalse negatives: 3230\tTrue negatives: 18822\n",
      "\n",
      "\n",
      "GaussianNB()\n",
      "\n",
      "\tBest parameters:\n",
      "\tNo GridSearch\n",
      "\n",
      "\tAccuracy: 0.21708\tPrecision: 0.14492\tRecall: 0.75450\tF1: 0.24313\tF2: 0.40976\n",
      "\tTotal predictions: 24000\tTrue positives: 3018\tFalse positives: 17808\tFalse negatives:  982\tTrue negatives: 2192\n",
      "\n",
      "Features list: ['total_stock_value', 'long_term_incentive']\n",
      "\n",
      "GridSearchCV(cv=None, error_score='raise',\n",
      "       estimator=DecisionTreeClassifier(class_weight=None, criterion='gini', max_depth=None,\n",
      "            max_features=None, max_leaf_nodes=None, min_samples_leaf=1,\n",
      "            min_samples_split=2, min_weight_fraction_leaf=0.0,\n",
      "            presort=False, random_state=None, splitter='best'),\n",
      "       fit_params={}, iid=True, n_jobs=1,\n",
      "       param_grid={'min_samples_split': [2, 3, 4, 5, 6, 7, 8, 9], 'splitter': ['best', 'random'], 'criterion': ['gini', 'entropy']},\n",
      "       pre_dispatch='2*n_jobs', refit=True, scoring=None, verbose=0)\n",
      "\n",
      "\tBest parameters:\n",
      "{'min_samples_split': 7, 'splitter': 'random', 'criterion': 'gini'}\n",
      "\n",
      "\tAccuracy: 0.82200\tPrecision: 0.31829\tRecall: 0.13750\tF1: 0.19204\tF2: 0.15512\n",
      "\tTotal predictions: 26000\tTrue positives:  550\tFalse positives: 1178\tFalse negatives: 3450\tTrue negatives: 20822\n",
      "\n",
      "\n",
      "GaussianNB()\n",
      "\n",
      "\tBest parameters:\n",
      "\tNo GridSearch\n",
      "\n",
      "\tAccuracy: 0.19746\tPrecision: 0.13446\tRecall: 0.77550\tF1: 0.22918\tF2: 0.39698\n",
      "\tTotal predictions: 26000\tTrue positives: 3102\tFalse positives: 19968\tFalse negatives:  898\tTrue negatives: 2032\n",
      "\n"
     ]
    }
   ],
   "source": [
    "### WARNING: THIS TAKES A LOT OF TIME. DO NOT RUN IT IF POSSIBLE.\n",
    "\n",
    "### Caclulating scores\n",
    "x_values = [\"bonus\", \"exercised_stock_options\", \"total_stock_value\"]\n",
    "y_values = [\"salary\", \"restricted_stock\", \"expenses\", \"from_poi_to_this_person\", \"long_term_incentive\"]\n",
    "\n",
    "classifiers = [\"DecisionTree\", \"GaussianNB\"]\n",
    "results_list = []\n",
    "for y in y_values:\n",
    "    for x in x_values:\n",
    "        features = ['poi', x, y]\n",
    "        results = classify_advanced(features, classifiers, print_result=True, draw_graph=False)\n",
    "        results_list.append(results)"
   ]
  },
  {
   "cell_type": "code",
   "execution_count": 51,
   "metadata": {
    "collapsed": false
   },
   "outputs": [
    {
     "name": "stdout",
     "output_type": "stream",
     "text": [
      "\n",
      "           Accuracy   Precision     Recall\n",
      "DecisionTree\n",
      "            0.7533      0.2964      0.1700\n",
      "GaussianNB\n",
      "            0.2469      0.1824      0.7940\n",
      "\n",
      "           Accuracy   Precision     Recall\n",
      "DecisionTree\n",
      "            0.8275      0.3653      0.1640\n",
      "GaussianNB\n",
      "            0.1998      0.1351      0.7775\n",
      "\n",
      "           Accuracy   Precision     Recall\n",
      "DecisionTree\n",
      "            0.8183      0.2830      0.1180\n",
      "GaussianNB\n",
      "            0.1938      0.1348      0.7830\n",
      "\n",
      "           Accuracy   Precision     Recall\n",
      "DecisionTree\n",
      "            0.7894      0.2813      0.1695\n",
      "GaussianNB\n",
      "            0.2262      0.1456      0.7480\n",
      "\n",
      "           Accuracy   Precision     Recall\n",
      "DecisionTree\n",
      "            0.8274      0.3591      0.1555\n",
      "GaussianNB\n",
      "            0.2045      0.1308      0.7390\n",
      "\n",
      "           Accuracy   Precision     Recall\n",
      "DecisionTree\n",
      "            0.8202      0.3092      0.1365\n",
      "GaussianNB\n",
      "            0.2112      0.1370      0.7785\n",
      "\n",
      "           Accuracy   Precision     Recall\n",
      "DecisionTree\n",
      "            0.7965      0.4094      0.2700\n",
      "GaussianNB\n",
      "            0.2676      0.1806      0.8560\n",
      "\n",
      "           Accuracy   Precision     Recall\n",
      "DecisionTree\n",
      "            0.8279      0.3661      0.1620\n",
      "GaussianNB\n",
      "            0.2092      0.1310      0.7350\n",
      "\n",
      "           Accuracy   Precision     Recall\n",
      "DecisionTree\n",
      "            0.8319      0.3364      0.1815\n",
      "GaussianNB\n",
      "            0.2216      0.1281      0.7660\n",
      "\n",
      "           Accuracy   Precision     Recall\n",
      "DecisionTree\n",
      "            0.7636      0.3143      0.1540\n",
      "GaussianNB\n",
      "            0.6601      0.1705      0.1810\n",
      "\n",
      "           Accuracy   Precision     Recall\n",
      "DecisionTree\n",
      "            0.8106      0.3377      0.1420\n",
      "GaussianNB\n",
      "            0.7862      0.1372      0.0535\n",
      "\n",
      "           Accuracy   Precision     Recall\n",
      "DecisionTree\n",
      "            0.8182      0.2926      0.1280\n",
      "GaussianNB\n",
      "            0.7955      0.1173      0.0505\n",
      "\n",
      "           Accuracy   Precision     Recall\n",
      "DecisionTree\n",
      "            0.7337      0.3025      0.1520\n",
      "GaussianNB\n",
      "            0.2569      0.2025      0.7975\n",
      "\n",
      "           Accuracy   Precision     Recall\n",
      "DecisionTree\n",
      "            0.8163      0.3953      0.1925\n",
      "GaussianNB\n",
      "            0.2171      0.1449      0.7545\n",
      "\n",
      "           Accuracy   Precision     Recall\n",
      "DecisionTree\n",
      "            0.8220      0.3183      0.1375\n",
      "GaussianNB\n",
      "            0.1975      0.1345      0.7755\n"
     ]
    }
   ],
   "source": [
    "### Printing out the result in a more readable format\n",
    "for results in results_list:\n",
    "    print_out_result(results)"
   ]
  },
  {
   "cell_type": "markdown",
   "metadata": {},
   "source": [
    "I didn't add the features being used in the results array so the print out function cannot print out the names of features being scored. However, we can find out the features very easily by looking at the output from the previous code or we can look at the order it appears on this results.\n",
    "\n",
    "I am going to chose three pairs of features: one with the highest accuracy, one with the highest precision and one with the highest recall.\n",
    "\n",
    "**The highest accuracy :** **0.8296** by DecisionTree from 'exercised_stock_options' and 'restricted_stock'\n",
    "\n",
    "**The highest precision:** **0.3975** by DecisionTree from 'bonus' and 'expenses'\n",
    "\n",
    "**The highest recall   :** **0.8560** by GaussianNB from 'bonus' and 'expenses'\n",
    "\n",
    "So here are my combinations that I will be using for the multivariate analysis:\n",
    "\n",
    "- bonus\n",
    "- exercised_stock_options\n",
    "- total_stock_value\n",
    "- restricted_stock\n",
    "- expenses"
   ]
  },
  {
   "cell_type": "markdown",
   "metadata": {},
   "source": [
    "# Multivariate Analysis"
   ]
  },
  {
   "cell_type": "markdown",
   "metadata": {},
   "source": [
    "This will be the final round of achieving the highest scores from the data set. So far I conducted a univariate analysis to find the single features having the highest scores and then through the bivariate analysis I found the pair of combinataions showing the best result for accuracy, precision and recall.\n",
    "\n",
    "I will run the \"classify_advanced\" function on these 5 features and check the scores. I am not 100% certain that the scores will be better than the grades I've seen so far. For example, when you look at the pair of bonus and expense it shows the highest recall but shows very low accuracy and precision."
   ]
  },
  {
   "cell_type": "code",
   "execution_count": 52,
   "metadata": {
    "collapsed": false
   },
   "outputs": [
    {
     "name": "stdout",
     "output_type": "stream",
     "text": [
      "Features list: ['bonus', 'exercised_stock_options', 'total_stock_value', 'restricted_stock', 'expenses']\n",
      "\n",
      "GridSearchCV(cv=None, error_score='raise',\n",
      "       estimator=DecisionTreeClassifier(class_weight=None, criterion='gini', max_depth=None,\n",
      "            max_features=None, max_leaf_nodes=None, min_samples_leaf=1,\n",
      "            min_samples_split=2, min_weight_fraction_leaf=0.0,\n",
      "            presort=False, random_state=None, splitter='best'),\n",
      "       fit_params={}, iid=True, n_jobs=1,\n",
      "       param_grid={'min_samples_split': [2, 3, 4, 5, 6, 7, 8, 9], 'splitter': ['best', 'random'], 'criterion': ['gini', 'entropy']},\n",
      "       pre_dispatch='2*n_jobs', refit=True, scoring=None, verbose=0)\n",
      "\n",
      "\tBest parameters:\n",
      "{'min_samples_split': 3, 'splitter': 'random', 'criterion': 'entropy'}\n",
      "\n",
      "\tAccuracy: 0.82471\tPrecision: 0.34867\tRecall: 0.26150\tF1: 0.29886\tF2: 0.27526\n",
      "\tTotal predictions: 28000\tTrue positives: 1046\tFalse positives: 1954\tFalse negatives: 2954\tTrue negatives: 22046\n",
      "\n",
      "\n",
      "GaussianNB()\n",
      "\n",
      "\tBest parameters:\n",
      "\tNo GridSearch\n",
      "\n",
      "\tAccuracy: 0.22393\tPrecision: 0.13960\tRecall: 0.85850\tF1: 0.24016\tF2: 0.42293\n",
      "\tTotal predictions: 28000\tTrue positives: 3434\tFalse positives: 21164\tFalse negatives:  566\tTrue negatives: 2836\n",
      "\n",
      "Got a divide by zero when trying out: GridSearchCV(cv=None, error_score='raise',\n",
      "       estimator=SVC(C=1.0, cache_size=200, class_weight=None, coef0=0.0,\n",
      "  decision_function_shape=None, degree=3, gamma='auto', kernel='rbf',\n",
      "  max_iter=-1, probability=False, random_state=None, shrinking=True,\n",
      "  tol=0.001, verbose=False),\n",
      "       fit_params={}, iid=True, n_jobs=1,\n",
      "       param_grid={'kernel': ['rbf', 'linear', 'poly'], 'degree': [1, 2, 3, 4, 5], 'gamma': ['auto', 0.1, 0.3, 0.5, 0.7]},\n",
      "       pre_dispatch='2*n_jobs', refit=True, scoring=None, verbose=0)\n",
      "Precision or recall may be undefined due to a lack of true positive predicitons.\n",
      "\n",
      "\n",
      "GridSearchCV(cv=None, error_score='raise',\n",
      "       estimator=KNeighborsRegressor(algorithm='auto', leaf_size=30, metric='minkowski',\n",
      "          metric_params=None, n_jobs=1, n_neighbors=5, p=2,\n",
      "          weights='uniform'),\n",
      "       fit_params={}, iid=True, n_jobs=1,\n",
      "       param_grid={'n_neighbors': [1, 2, 3, 4, 5, 6, 7, 8, 9, 10], 'weights': ['uniform', 'distance'], 'algorithm': ['auto', 'ball_tree', 'kd_tree', 'brute']},\n",
      "       pre_dispatch='2*n_jobs', refit=True, scoring=None, verbose=0)\n",
      "\n",
      "\tBest parameters:\n",
      "{'n_neighbors': 10, 'weights': 'uniform', 'algorithm': 'auto'}\n",
      "\n",
      "\tAccuracy: 0.84357\tPrecision: 0.16549\tRecall: 0.02350\tF1: 0.04116\tF2: 0.02837\n",
      "\tTotal predictions: 28000\tTrue positives:   94\tFalse positives:  474\tFalse negatives: 3906\tTrue negatives: 23526\n",
      "\n",
      "\n",
      "LinearRegression(copy_X=True, fit_intercept=True, n_jobs=1, normalize=False)\n",
      "\n",
      "\tBest parameters:\n",
      "\tNo GridSearch\n",
      "\n",
      "\tAccuracy: 0.85386\tPrecision: 0.43466\tRecall: 0.07650\tF1: 0.13010\tF2: 0.09159\n",
      "\tTotal predictions: 28000\tTrue positives:  306\tFalse positives:  398\tFalse negatives: 3694\tTrue negatives: 23602\n",
      "\n",
      "Got a divide by zero when trying out: GridSearchCV(cv=None, error_score='raise',\n",
      "       estimator=Lasso(alpha=1.0, copy_X=True, fit_intercept=True, max_iter=1000,\n",
      "   normalize=False, positive=False, precompute=False, random_state=None,\n",
      "   selection='cyclic', tol=0.0001, warm_start=False),\n",
      "       fit_params={}, iid=True, n_jobs=1,\n",
      "       param_grid={'selection': ['cyclic', 'random']},\n",
      "       pre_dispatch='2*n_jobs', refit=True, scoring=None, verbose=0)\n",
      "Precision or recall may be undefined due to a lack of true positive predicitons.\n",
      "\n"
     ]
    }
   ],
   "source": [
    "### Calculating the scores using my top features\n",
    "classifiers = ['DecisionTree', 'GaussianNB', 'SVM', 'KNN', 'Regression', 'Lasso']\n",
    "features = ['poi', 'bonus', 'exercised_stock_options', 'total_stock_value', 'restricted_stock', 'expenses']\n",
    "results = classify_advanced(features, classifiers, print_result=True, draw_graph=False)"
   ]
  },
  {
   "cell_type": "code",
   "execution_count": 53,
   "metadata": {
    "collapsed": false
   },
   "outputs": [
    {
     "name": "stdout",
     "output_type": "stream",
     "text": [
      "\n",
      "           Accuracy   Precision     Recall\n",
      "DecisionTree\n",
      "            0.8247      0.3487      0.2615\n",
      "GaussianNB\n",
      "            0.2239      0.1396      0.8585\n",
      "SVM\n",
      "           --------------None--------------\n",
      "KNN\n",
      "            0.8436      0.1655      0.0235\n",
      "Regression\n",
      "            0.8539      0.4347      0.0765\n",
      "Lasso\n",
      "           --------------None--------------\n"
     ]
    }
   ],
   "source": [
    "### Print results\n",
    "print_out_result(results)"
   ]
  },
  {
   "cell_type": "markdown",
   "metadata": {},
   "source": [
    "Similar to the other results, decision tree again shows the most well rounded result. However, recall value is slightly less than 0.3"
   ]
  },
  {
   "cell_type": "markdown",
   "metadata": {},
   "source": [
    "So the result is not as good as the one we saw before. Using more features doesn't necessarily mean the better scores. I will use bonus and exercised_stock_options as my final choice of combination for identifying POIs. The accuracy, precision and recall are all above 0.3 when classfied with DecisionTree."
   ]
  },
  {
   "cell_type": "markdown",
   "metadata": {},
   "source": [
    "# Final Thought"
   ]
  },
  {
   "cell_type": "markdown",
   "metadata": {},
   "source": [
    "For this final project, I first investigated the overall data set first. I checked the number features in the data set, the number of POIs, and see if there are any features with too many zeros or missing values. Then, I found an outlier and realized that there was “Total” summing all the features in the data set. I got rid of this “Total” and the data showed better plots. I created a function that splits the data using **StratifiedShuffleSplit** cross validation that is being used in *tester.py*.  I thought this is the best cross validation to be used because it increases the size of the data points randomly and provides the better calculation. Due to small number of POIs in the data set, Test and Train split can cause zero POI in test set very frequently, so it won’t give very good calculation.\n",
    "\n",
    "I created a function that can calculate accuracy, precision and recall using various classifiers with the best parameters (the parameters are chosen by **GridSearchCV**) and as a result, the best combination of features to identify the POIs are bonus and exercised_stock_options with DecisionTree classifier.\n",
    "\n",
    "During the process, SVM and Lasso Regression result in error most of the time due to lack of non-zero values in the input data set. This can be fixed by using **StratifiedShuffleSplit** and increase the number of data points, but I didn’t do it because this will take too much amount of time. \n",
    "\n",
    "I believe that there are many ways of improving my result. Assuming I have a lot of time, I can try more parameters of classifiers. And I can also use more parameters in **GridSearchCV**. For example there is “cv” parameter that can specify the number of folds. This “cv” parameter can fix the problem I encountered above as well.\n",
    "\n",
    "\n",
    "** Note: ** \n",
    "*poi_id.py* includes the result with the best scores from my investigation and it can be tested by running *tester.py*.\n",
    "\n",
    " "
   ]
  }
 ],
 "metadata": {
  "kernelspec": {
   "display_name": "Python 2",
   "language": "python",
   "name": "python2"
  },
  "language_info": {
   "codemirror_mode": {
    "name": "ipython",
    "version": 2
   },
   "file_extension": ".py",
   "mimetype": "text/x-python",
   "name": "python",
   "nbconvert_exporter": "python",
   "pygments_lexer": "ipython2",
   "version": "2.7.11"
  }
 },
 "nbformat": 4,
 "nbformat_minor": 0
}
